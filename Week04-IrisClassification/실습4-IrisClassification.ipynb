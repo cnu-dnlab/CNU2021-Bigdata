{
 "cells": [
  {
   "cell_type": "markdown",
   "id": "obvious-mambo",
   "metadata": {},
   "source": [
    "# 붓꽃 분류 모델\n",
    "\n",
    "## 빅데이터: 붓꽃 데이터 결정트리 / 랜덤포레스트 ROC 커브\n",
    "\n",
    "### 이영석, 문현수\n",
    "\n",
    "#### munhyunsu@cs-cnu.org"
   ]
  },
  {
   "cell_type": "code",
   "execution_count": null,
   "id": "supported-future",
   "metadata": {},
   "outputs": [],
   "source": [
    "import numpy as np\n",
    "import pandas as pd\n",
    "\n",
    "import matplotlib.pyplot as plt\n",
    "%matplotlib inline"
   ]
  },
  {
   "cell_type": "markdown",
   "id": "american-moisture",
   "metadata": {},
   "source": [
    "# 붓꽃 데이터셋 불러오기"
   ]
  },
  {
   "cell_type": "code",
   "execution_count": null,
   "id": "thrown-authority",
   "metadata": {},
   "outputs": [],
   "source": [
    "from sklearn.datasets import load_iris"
   ]
  },
  {
   "cell_type": "code",
   "execution_count": null,
   "id": "modified-circumstances",
   "metadata": {},
   "outputs": [],
   "source": [
    "iris = load_iris()"
   ]
  },
  {
   "cell_type": "code",
   "execution_count": null,
   "id": "abandoned-father",
   "metadata": {},
   "outputs": [],
   "source": [
    "print(iris['DESCR'])"
   ]
  },
  {
   "cell_type": "code",
   "execution_count": null,
   "id": "intermediate-novelty",
   "metadata": {},
   "outputs": [],
   "source": [
    "print(f'분류 대상: {iris.target_names}')\n",
    "# Petal: 꽃잎, Sepal: 꽃받침\n",
    "print(f'특징: {iris.feature_names}')\n",
    "print('특징 예제')\n",
    "for row in iris.data[:5]:\n",
    "    print(row)"
   ]
  },
  {
   "cell_type": "code",
   "execution_count": null,
   "id": "partial-restoration",
   "metadata": {},
   "outputs": [],
   "source": [
    "df = pd.DataFrame({'sepal length':iris.data[:,0],\n",
    "                   'sepal width':iris.data[:,1],\n",
    "                   'petal length':iris.data[:,2],\n",
    "                   'petal width':iris.data[:,3],\n",
    "                   'species':iris.target})\n",
    "df.head()"
   ]
  },
  {
   "cell_type": "code",
   "execution_count": null,
   "id": "portuguese-inside",
   "metadata": {},
   "outputs": [],
   "source": [
    "print(df[df['species'] == 0].mean())\n",
    "print(df[df['species'] == 1].mean())\n",
    "print(df[df['species'] == 2].mean())"
   ]
  },
  {
   "cell_type": "markdown",
   "id": "designing-haiti",
   "metadata": {},
   "source": [
    "## 붓꽃 의사결정트리"
   ]
  },
  {
   "cell_type": "code",
   "execution_count": null,
   "id": "greek-western",
   "metadata": {},
   "outputs": [],
   "source": [
    "from sklearn.model_selection import train_test_split"
   ]
  },
  {
   "cell_type": "code",
   "execution_count": null,
   "id": "uniform-dubai",
   "metadata": {},
   "outputs": [],
   "source": [
    "features = ['sepal length', 'sepal width', 'petal length', 'petal width']\n",
    "X = df[features]\n",
    "y = df['species']"
   ]
  },
  {
   "cell_type": "code",
   "execution_count": null,
   "id": "accurate-asthma",
   "metadata": {},
   "outputs": [],
   "source": [
    "X.head()"
   ]
  },
  {
   "cell_type": "code",
   "execution_count": null,
   "id": "adjustable-attendance",
   "metadata": {},
   "outputs": [],
   "source": [
    "y"
   ]
  },
  {
   "cell_type": "code",
   "execution_count": null,
   "id": "invisible-violence",
   "metadata": {},
   "outputs": [],
   "source": [
    "test_size = 0.2\n",
    "random_state = None\n",
    "X_train, X_test, y_train, y_test = train_test_split(X, y, test_size=test_size, random_state=random_state)"
   ]
  },
  {
   "cell_type": "code",
   "execution_count": null,
   "id": "sufficient-leather",
   "metadata": {},
   "outputs": [],
   "source": [
    "from sklearn.tree import DecisionTreeClassifier, plot_tree"
   ]
  },
  {
   "cell_type": "code",
   "execution_count": null,
   "id": "partial-pension",
   "metadata": {},
   "outputs": [],
   "source": [
    "random_state = None\n",
    "clf= DecisionTreeClassifier(random_state=random_state)"
   ]
  },
  {
   "cell_type": "code",
   "execution_count": null,
   "id": "crucial-lightning",
   "metadata": {},
   "outputs": [],
   "source": [
    "clf.fit(X_train, y_train)"
   ]
  },
  {
   "cell_type": "code",
   "execution_count": null,
   "id": "alpha-dealer",
   "metadata": {},
   "outputs": [],
   "source": [
    "print(f'학습 평균 정확도: {clf.score(X_train, y_train)}') \n",
    "print(f'예측 평균 정확도: {clf.score(X_test, y_test)}') "
   ]
  },
  {
   "cell_type": "code",
   "execution_count": null,
   "id": "commercial-breach",
   "metadata": {},
   "outputs": [],
   "source": [
    "for name, importance in zip (features, clf.feature_importances_):\n",
    "    print(f'{name} = {importance}')"
   ]
  },
  {
   "cell_type": "code",
   "execution_count": null,
   "id": "external-jewel",
   "metadata": {},
   "outputs": [],
   "source": [
    "fig = plt.figure(figsize= (8, 6))\n",
    "ax = fig.add_subplot()\n",
    "ax.barh(features, clf.feature_importances_)\n",
    "ax.set_xlim((0, 1))"
   ]
  },
  {
   "cell_type": "code",
   "execution_count": null,
   "id": "indoor-french",
   "metadata": {},
   "outputs": [],
   "source": [
    "fig = plt.figure(figsize= (8*1, 6*1))\n",
    "ax = fig.add_subplot()\n",
    "_ = plot_tree(clf, \n",
    "#               class_names=iris.target_names,\n",
    "              feature_names=features, \n",
    "              max_depth=3, filled=True, ax=ax, fontsize='medium')"
   ]
  },
  {
   "cell_type": "markdown",
   "id": "latter-recycling",
   "metadata": {},
   "source": [
    "## 의사 결정 트리 최대 깊이 N"
   ]
  },
  {
   "cell_type": "code",
   "execution_count": null,
   "id": "intense-exclusion",
   "metadata": {},
   "outputs": [],
   "source": [
    "features = ['sepal length', 'sepal width', 'petal length', 'petal width']\n",
    "X = df[features]\n",
    "y = df['species']"
   ]
  },
  {
   "cell_type": "code",
   "execution_count": null,
   "id": "convinced-peripheral",
   "metadata": {},
   "outputs": [],
   "source": [
    "test_size = 0.2\n",
    "random_state = None\n",
    "X_train, X_test, y_train, y_test = train_test_split(X, y, test_size=test_size, random_state=random_state)"
   ]
  },
  {
   "cell_type": "code",
   "execution_count": null,
   "id": "amino-halloween",
   "metadata": {},
   "outputs": [],
   "source": [
    "max_depth = 3\n",
    "random_state = None\n",
    "clf = DecisionTreeClassifier(max_depth=max_depth, random_state=random_state)"
   ]
  },
  {
   "cell_type": "code",
   "execution_count": null,
   "id": "extensive-layer",
   "metadata": {},
   "outputs": [],
   "source": [
    "clf.fit(X_train, y_train)"
   ]
  },
  {
   "cell_type": "code",
   "execution_count": null,
   "id": "involved-casting",
   "metadata": {},
   "outputs": [],
   "source": [
    "print(f'학습 평균 정확도: {clf.score(X_train, y_train)}') \n",
    "print(f'예측 평균 정확도: {clf.score(X_test, y_test)}') "
   ]
  },
  {
   "cell_type": "code",
   "execution_count": null,
   "id": "abroad-antarctica",
   "metadata": {},
   "outputs": [],
   "source": [
    "fig = plt.figure(figsize= (8*1, 6*1))\n",
    "ax = fig.add_subplot()\n",
    "_ = plot_tree(clf, \n",
    "#               class_names=iris.target_names,\n",
    "              feature_names=features, \n",
    "              max_depth=3, filled=True, ax=ax, fontsize='medium')"
   ]
  },
  {
   "cell_type": "markdown",
   "id": "supported-addition",
   "metadata": {},
   "source": [
    "## 랜덤포레스트 분류기"
   ]
  },
  {
   "cell_type": "code",
   "execution_count": null,
   "id": "interested-jefferson",
   "metadata": {},
   "outputs": [],
   "source": [
    "from sklearn.ensemble import RandomForestClassifier"
   ]
  },
  {
   "cell_type": "code",
   "execution_count": null,
   "id": "varied-digest",
   "metadata": {},
   "outputs": [],
   "source": [
    "test_size = 0.2\n",
    "random_state = None\n",
    "X_train, X_test, y_train, y_test = train_test_split(X, y, test_size=test_size, random_state=random_state)"
   ]
  },
  {
   "cell_type": "code",
   "execution_count": null,
   "id": "boring-delaware",
   "metadata": {},
   "outputs": [],
   "source": [
    "random_state = None\n",
    "clf = RandomForestClassifier(random_state=random_state)"
   ]
  },
  {
   "cell_type": "code",
   "execution_count": null,
   "id": "organizational-popularity",
   "metadata": {},
   "outputs": [],
   "source": [
    "clf.fit(X_train, y_train)"
   ]
  },
  {
   "cell_type": "code",
   "execution_count": null,
   "id": "analyzed-breathing",
   "metadata": {},
   "outputs": [],
   "source": [
    "print(f'학습 평균 정확도: {clf.score(X_train, y_train)}') \n",
    "print(f'예측 평균 정확도: {clf.score(X_test, y_test)}') "
   ]
  },
  {
   "cell_type": "markdown",
   "id": "boring-hours",
   "metadata": {},
   "source": [
    "## 멀티클래스 ROC 커브 and AUC"
   ]
  },
  {
   "cell_type": "markdown",
   "id": "headed-offering",
   "metadata": {},
   "source": [
    "### 멀티클래스 이진분류 클래스 전처리"
   ]
  },
  {
   "cell_type": "code",
   "execution_count": null,
   "id": "reported-commander",
   "metadata": {},
   "outputs": [],
   "source": [
    "from sklearn.preprocessing import label_binarize"
   ]
  },
  {
   "cell_type": "code",
   "execution_count": null,
   "id": "atlantic-accessory",
   "metadata": {},
   "outputs": [],
   "source": [
    "df = pd.DataFrame({'sepal length': iris.data[:, 0],\n",
    "                   'sepal width': iris.data[:, 1],\n",
    "                   'petal length': iris.data[:, 2],\n",
    "                   'petal width': iris.data[:, 3],\n",
    "                   'setosa': label_binarize(iris.target, classes=[0, 1, 2])[:, 0],\n",
    "                   'versicolor': label_binarize(iris.target, classes=[0, 1, 2])[:, 1],\n",
    "                   'virginica': label_binarize(iris.target, classes=[0, 1, 2])[:, 2],})\n",
    "df.head()"
   ]
  },
  {
   "cell_type": "code",
   "execution_count": null,
   "id": "metropolitan-dallas",
   "metadata": {},
   "outputs": [],
   "source": [
    "X = iris.data\n",
    "X[:5]"
   ]
  },
  {
   "cell_type": "code",
   "execution_count": null,
   "id": "featured-theme",
   "metadata": {},
   "outputs": [],
   "source": [
    "y = iris.target\n",
    "y[:5]"
   ]
  },
  {
   "cell_type": "code",
   "execution_count": null,
   "id": "caroline-payday",
   "metadata": {},
   "outputs": [],
   "source": [
    "y = label_binarize(iris.target, classes=[0, 1, 2])\n",
    "y[:5]"
   ]
  },
  {
   "cell_type": "code",
   "execution_count": null,
   "id": "illegal-present",
   "metadata": {},
   "outputs": [],
   "source": [
    "test_size = 0.2\n",
    "random_state = None\n",
    "X_train, X_test, y_train, y_test = train_test_split(X, y, test_size=test_size, random_state=random_state)"
   ]
  },
  {
   "cell_type": "markdown",
   "id": "sweet-harassment",
   "metadata": {},
   "source": [
    "### 멀티라벨 --> 이진분류: OneVsRest"
   ]
  },
  {
   "cell_type": "code",
   "execution_count": null,
   "id": "outdoor-married",
   "metadata": {},
   "outputs": [],
   "source": [
    "from sklearn.multiclass import OneVsRestClassifier"
   ]
  },
  {
   "cell_type": "code",
   "execution_count": null,
   "id": "split-hebrew",
   "metadata": {},
   "outputs": [],
   "source": [
    "random_state = None\n",
    "clf = OneVsRestClassifier(DecisionTreeClassifier(random_state=random_state))"
   ]
  },
  {
   "cell_type": "code",
   "execution_count": null,
   "id": "recognized-caution",
   "metadata": {},
   "outputs": [],
   "source": [
    "clf.fit(X_train, y_train)"
   ]
  },
  {
   "cell_type": "markdown",
   "id": "initial-employment",
   "metadata": {},
   "source": [
    "### 멀티라벨 ROC 커브"
   ]
  },
  {
   "cell_type": "code",
   "execution_count": null,
   "id": "understanding-conversation",
   "metadata": {},
   "outputs": [],
   "source": [
    "from sklearn.metrics import roc_curve, auc"
   ]
  },
  {
   "cell_type": "code",
   "execution_count": null,
   "id": "superb-nylon",
   "metadata": {},
   "outputs": [],
   "source": [
    "y_score = clf.predict_proba(X_test)"
   ]
  },
  {
   "cell_type": "code",
   "execution_count": null,
   "id": "outer-bridge",
   "metadata": {},
   "outputs": [],
   "source": [
    "fpr = dict()\n",
    "tpr = dict()\n",
    "roc_auc = dict()\n",
    "n_classes = y.shape[1]\n",
    "\n",
    "for i in range(n_classes):\n",
    "    fpr[i], tpr[i], _ = roc_curve(y_test[:, i], y_score[:, i])\n",
    "    roc_auc[i] = auc(fpr[i], tpr[i])"
   ]
  },
  {
   "cell_type": "code",
   "execution_count": null,
   "id": "welcome-things",
   "metadata": {},
   "outputs": [],
   "source": [
    "fig = plt.figure(figsize= (8*1, 6*1))\n",
    "ax = fig.add_subplot()\n",
    "\n",
    "colors = ['C1', 'C2', 'C3']\n",
    "for i, color in zip(range(n_classes), colors):\n",
    "    ax.plot(fpr[i], tpr[i], color=color, lw=2,\n",
    "             label=f'ROC curve of class {i} (area = {roc_auc[i]:0.2f})')\n",
    "\n",
    "ax.plot([0, 1], [0, 1], 'k--', lw=2)\n",
    "ax.set_xlim([0.0, 1.0])\n",
    "ax.set_ylim([0.0, 1.05])\n",
    "ax.set_xlabel('False Positive Rate')\n",
    "ax.set_ylabel('True Positive Rate')\n",
    "ax.set_title('Some extension of Receiver operating characteristic to multi-class')\n",
    "_ = ax.legend(loc=\"lower right\")\n",
    "# plt.show()"
   ]
  },
  {
   "cell_type": "markdown",
   "id": "plastic-picking",
   "metadata": {},
   "source": [
    "### 랜덤포레스트 ROC 커브"
   ]
  },
  {
   "cell_type": "code",
   "execution_count": null,
   "id": "waiting-consistency",
   "metadata": {},
   "outputs": [],
   "source": [
    "test_size = 0.2\n",
    "random_state = None\n",
    "X_train, X_test, y_train, y_test = train_test_split(X, y, test_size=test_size, random_state=random_state)"
   ]
  },
  {
   "cell_type": "code",
   "execution_count": null,
   "id": "sorted-transaction",
   "metadata": {},
   "outputs": [],
   "source": [
    "random_state = None\n",
    "clf = OneVsRestClassifier(RandomForestClassifier(random_state=random_state))"
   ]
  },
  {
   "cell_type": "code",
   "execution_count": null,
   "id": "japanese-harbor",
   "metadata": {},
   "outputs": [],
   "source": [
    "clf.fit(X_train, y_train)"
   ]
  },
  {
   "cell_type": "code",
   "execution_count": null,
   "id": "disabled-restaurant",
   "metadata": {},
   "outputs": [],
   "source": [
    "y_score = clf.predict_proba(X_test)"
   ]
  },
  {
   "cell_type": "code",
   "execution_count": null,
   "id": "sporting-passion",
   "metadata": {},
   "outputs": [],
   "source": [
    "fpr = dict()\n",
    "tpr = dict()\n",
    "roc_auc = dict()\n",
    "n_classes = y.shape[1]\n",
    "\n",
    "for i in range(n_classes):\n",
    "    fpr[i], tpr[i], _ = roc_curve(y_test[:, i], y_score[:, i])\n",
    "    roc_auc[i] = auc(fpr[i], tpr[i])"
   ]
  },
  {
   "cell_type": "code",
   "execution_count": null,
   "id": "dated-marketplace",
   "metadata": {},
   "outputs": [],
   "source": [
    "fig = plt.figure(figsize= (8*1, 6*1))\n",
    "ax = fig.add_subplot()\n",
    "\n",
    "colors = ['C1', 'C2', 'C3']\n",
    "for i, color in zip(range(n_classes), colors):\n",
    "    ax.plot(fpr[i], tpr[i], color=color, lw=2,\n",
    "             label=f'ROC curve of class {i} (area = {roc_auc[i]:0.2f})')\n",
    "\n",
    "ax.plot([0, 1], [0, 1], 'k--', lw=2)\n",
    "ax.set_xlim([0.0, 1.0])\n",
    "ax.set_ylim([0.0, 1.05])\n",
    "ax.set_xlabel('False Positive Rate')\n",
    "ax.set_ylabel('True Positive Rate')\n",
    "ax.set_title('Some extension of Receiver operating characteristic to multi-class')\n",
    "_ = ax.legend(loc=\"lower right\")"
   ]
  },
  {
   "cell_type": "code",
   "execution_count": null,
   "id": "sustainable-corrections",
   "metadata": {},
   "outputs": [],
   "source": []
  }
 ],
 "metadata": {
  "kernelspec": {
   "display_name": "Scikit-learn",
   "language": "python",
   "name": "scikit-learn"
  },
  "language_info": {
   "codemirror_mode": {
    "name": "ipython",
    "version": 3
   },
   "file_extension": ".py",
   "mimetype": "text/x-python",
   "name": "python",
   "nbconvert_exporter": "python",
   "pygments_lexer": "ipython3",
   "version": "3.9.2"
  }
 },
 "nbformat": 4,
 "nbformat_minor": 5
}
