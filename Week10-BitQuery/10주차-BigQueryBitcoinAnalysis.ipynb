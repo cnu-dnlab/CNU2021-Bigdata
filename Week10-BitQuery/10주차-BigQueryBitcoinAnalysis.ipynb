{
 "cells": [
  {
   "cell_type": "markdown",
   "id": "4b38d742",
   "metadata": {},
   "source": [
    "# Big Query Bitcoin 데이터 분석\n",
    "\n",
    "## Big Query Bitcoin 데이터 쿼리 및 시각화 분석\n",
    "\n",
    "### 이영석, 문현수"
   ]
  },
  {
   "cell_type": "code",
   "execution_count": null,
   "id": "2ef0247a",
   "metadata": {},
   "outputs": [],
   "source": [
    "import datetime\n",
    "\n",
    "import numpy as np\n",
    "import pandas as pd\n",
    "\n",
    "import matplotlib as mpl\n",
    "import matplotlib.pyplot as plt\n",
    "%matplotlib inline"
   ]
  },
  {
   "cell_type": "code",
   "execution_count": null,
   "id": "840e40df",
   "metadata": {},
   "outputs": [],
   "source": [
    "df_tx = pd.read_csv('data/tx.csv')\n",
    "df_tx"
   ]
  },
  {
   "cell_type": "code",
   "execution_count": null,
   "id": "131c35dd",
   "metadata": {},
   "outputs": [],
   "source": [
    "df_outputs = pd.read_csv('data/outputs.csv')\n",
    "df_outputs"
   ]
  },
  {
   "cell_type": "code",
   "execution_count": null,
   "id": "cb79aacd",
   "metadata": {},
   "outputs": [],
   "source": [
    "df_fee = pd.read_csv('data/fee.csv')\n",
    "df_fee"
   ]
  },
  {
   "cell_type": "code",
   "execution_count": null,
   "id": "c933dedf",
   "metadata": {},
   "outputs": [],
   "source": [
    "df = pd.merge(df_tx, df_outputs, left_on='number', right_on='block_number')\n",
    "df = df.merge(df_fee, on='block_number')\n",
    "df.drop(['block_number'], axis=1, inplace=True)\n",
    "df.rename({'f0__x': 'value'}, axis=1, inplace=True)\n",
    "df.rename({'f0__y': 'fee'}, axis=1, inplace=True)\n",
    "df['timestamp'] = pd.to_datetime(df['timestamp'])\n",
    "df"
   ]
  },
  {
   "cell_type": "code",
   "execution_count": null,
   "id": "8d94f249",
   "metadata": {},
   "outputs": [],
   "source": [
    "fig = plt.figure(figsize= (8, 8))\n",
    "fig.suptitle('Bitcoin statistics')\n",
    "ax1 = fig.add_subplot()\n",
    "ax1.plot(df['timestamp'], df['transaction_count'], color='blue', alpha=0.75, label='Transaction Count')\n",
    "ax1.set_xlabel('Timestamp')\n",
    "ax1.set_ylabel('Transaction Count', color='blue')\n",
    "ax1.tick_params(axis='y', labelcolor='blue')\n",
    "ax2 = ax1.twinx()\n",
    "ax2.plot(df['timestamp'], df['value'], color='green', alpha=0.75, label='Value')\n",
    "ax2.plot(df['timestamp'], df['fee'], color='red', alpha=0.75, label='red')\n",
    "ax2.set_ylabel('Value or Fee', color='green')\n",
    "ax2.tick_params(axis='y', labelcolor='green')\n",
    "fig.tight_layout()\n",
    "fig.legend()\n",
    "fig.show()"
   ]
  },
  {
   "cell_type": "code",
   "execution_count": null,
   "id": "e06f5248",
   "metadata": {},
   "outputs": [],
   "source": [
    "fig = plt.figure(figsize= (8, 8))\n",
    "fig.suptitle('Bitcoin statistics')\n",
    "ax1 = fig.add_subplot()\n",
    "ax1.plot(df['timestamp'], df['transaction_count'], color='blue', alpha=0.75, label='Transaction Count')\n",
    "ax1.set_xlabel('Timestamp')\n",
    "ax1.set_ylabel('Transaction Count', color='blue')\n",
    "ax1.tick_params(axis='y', labelcolor='blue')\n",
    "ax2 = ax1.twinx()\n",
    "# ax2.plot(df['timestamp'], df['value'], color='green', alpha=0.75, label='Value')\n",
    "ax2.plot(df['timestamp'], df['fee'], color='red', alpha=0.75, label='Fee')\n",
    "ax2.set_ylabel('Fee', color='red')\n",
    "ax2.tick_params(axis='y', labelcolor='red')\n",
    "fig.tight_layout()\n",
    "fig.legend()\n",
    "fig.show()"
   ]
  },
  {
   "cell_type": "code",
   "execution_count": null,
   "id": "ca058f12",
   "metadata": {},
   "outputs": [],
   "source": [
    "fig = plt.figure(figsize= (8, 8))\n",
    "fig.suptitle('Bitcoin statistics')\n",
    "ax1 = fig.add_subplot()\n",
    "ax1.plot(df['timestamp'], df['value'], color='green', alpha=0.75, label='Value')\n",
    "# ax1.set_xlim(datetime.datetime(2021, 5, 1), datetime.datetime(2021, 6, 1))\n",
    "ax1.set_xlabel('Timestamp')\n",
    "ax1.set_ylabel('Value', color='green')\n",
    "ax1.tick_params(axis='y', labelcolor='green')\n",
    "ax2 = ax1.twinx()\n",
    "ax2.plot(df['timestamp'], df['fee'], color='red', alpha=0.75, label='Fee')\n",
    "# ax2.set_ylim(0, 0.1e+14)\n",
    "ax2.set_ylabel('Fee', color='red')\n",
    "ax2.tick_params(axis='y', labelcolor='red')\n",
    "fig.tight_layout()\n",
    "fig.legend()\n",
    "fig.show()"
   ]
  },
  {
   "cell_type": "code",
   "execution_count": null,
   "id": "ef1e8a9c",
   "metadata": {},
   "outputs": [],
   "source": [
    "fig = plt.figure(figsize= (8, 8))\n",
    "fig.suptitle('Bitcoin statistics')\n",
    "ax1 = fig.add_subplot()\n",
    "ax1.plot(df['timestamp'], df['value'], color='green', alpha=0.75, label='Value')\n",
    "ax1.set_xlim(datetime.datetime(2021, 5, 1), datetime.datetime(2021, 6, 1))\n",
    "ax1.set_xlabel('Timestamp')\n",
    "ax1.set_ylabel('Value', color='green')\n",
    "ax1.tick_params(axis='y', labelcolor='green')\n",
    "ax2 = ax1.twinx()\n",
    "ax2.plot(df['timestamp'], df['fee'], color='red', alpha=0.75, label='Fee')\n",
    "ax2.set_ylim(0, 0.1e+14)\n",
    "ax2.set_ylabel('Fee', color='red')\n",
    "ax2.tick_params(axis='y', labelcolor='red')\n",
    "fig.tight_layout()\n",
    "fig.legend()\n",
    "fig.show()"
   ]
  }
 ],
 "metadata": {
  "kernelspec": {
   "display_name": "TensorFlow",
   "language": "python",
   "name": "tensorflow"
  },
  "language_info": {
   "codemirror_mode": {
    "name": "ipython",
    "version": 3
   },
   "file_extension": ".py",
   "mimetype": "text/x-python",
   "name": "python",
   "nbconvert_exporter": "python",
   "pygments_lexer": "ipython3",
   "version": "3.8.6"
  }
 },
 "nbformat": 4,
 "nbformat_minor": 5
}
