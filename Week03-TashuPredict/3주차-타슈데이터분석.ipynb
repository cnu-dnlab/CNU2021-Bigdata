{
 "cells": [
  {
   "cell_type": "markdown",
   "id": "disciplinary-acrobat",
   "metadata": {},
   "source": [
    "# 타슈 데이터 분석\n",
    "\n",
    "## 빅데이터: 공유 자전거 데이터 결정트리\n",
    "\n",
    "### 이영석, 문현수"
   ]
  },
  {
   "cell_type": "code",
   "execution_count": null,
   "id": "distinguished-creator",
   "metadata": {},
   "outputs": [],
   "source": [
    "import datetime\n",
    "\n",
    "import numpy as np\n",
    "import pandas as pd\n",
    "\n",
    "import matplotlib as mpl\n",
    "import matplotlib.pyplot as plt\n",
    "%matplotlib inline"
   ]
  },
  {
   "cell_type": "code",
   "execution_count": null,
   "id": "competent-sector",
   "metadata": {},
   "outputs": [],
   "source": [
    "df_rent = pd.read_pickle('tashu_dataset-rental_history.pkl')\n",
    "df_rent['대여일시'] = pd.to_datetime(df_rent['대여일시'], format='%Y%m%d%H%M%S')\n",
    "df_rent['반납일시'] = pd.to_datetime(df_rent['반납일시'], format='%Y%m%d%H%M%S')\n",
    "df_rent"
   ]
  },
  {
   "cell_type": "code",
   "execution_count": null,
   "id": "broad-hybrid",
   "metadata": {},
   "outputs": [],
   "source": [
    "df_rent.dtypes"
   ]
  },
  {
   "cell_type": "code",
   "execution_count": null,
   "id": "important-grade",
   "metadata": {},
   "outputs": [],
   "source": [
    "df_station = pd.read_pickle('tashu_dataset-station_information.pkl')\n",
    "df_station"
   ]
  },
  {
   "cell_type": "code",
   "execution_count": null,
   "id": "portable-proposal",
   "metadata": {},
   "outputs": [],
   "source": [
    "df_station.dtypes"
   ]
  },
  {
   "cell_type": "markdown",
   "id": "federal-frontier",
   "metadata": {},
   "source": [
    "# 대여 - 반납 분석"
   ]
  },
  {
   "cell_type": "code",
   "execution_count": null,
   "id": "harmful-lounge",
   "metadata": {},
   "outputs": [],
   "source": [
    "df = df_rent"
   ]
  },
  {
   "cell_type": "code",
   "execution_count": null,
   "id": "asian-pakistan",
   "metadata": {},
   "outputs": [],
   "source": [
    "df_rent_by_station_count = df['반납스테이션'].groupby(by=df['대여스테이션']).count()\n",
    "df_rent_by_station_count"
   ]
  },
  {
   "cell_type": "code",
   "execution_count": null,
   "id": "color-stanford",
   "metadata": {},
   "outputs": [],
   "source": [
    "df_return_count = df.loc[df['대여스테이션'] == df['반납스테이션']]['반납스테이션'].groupby(by=df['대여스테이션']).count()\n",
    "df_return_count"
   ]
  },
  {
   "cell_type": "code",
   "execution_count": null,
   "id": "material-district",
   "metadata": {},
   "outputs": [],
   "source": [
    "df_return_ratio = df_return_count / df_rent_by_station_count\n",
    "df_return_ratio"
   ]
  },
  {
   "cell_type": "code",
   "execution_count": null,
   "id": "sudden-probe",
   "metadata": {},
   "outputs": [],
   "source": [
    "fig = plt.figure(figsize= (8, 6))\n",
    "ax = fig.add_subplot()\n",
    "ax.bar(df_return_ratio.index, df_return_ratio)\n",
    "ax.set_title('Return ratio by station', fontsize='x-large')\n",
    "ax.set_xlabel('Station number', fontsize='large')\n",
    "ax.set_ylabel('Return ratio', fontsize='large')\n",
    "ax.set_ylim((0, 1))"
   ]
  },
  {
   "cell_type": "code",
   "execution_count": null,
   "id": "scenic-combining",
   "metadata": {},
   "outputs": [],
   "source": [
    "print_max = 10\n",
    "count = 0\n",
    "for index, row in df_return_ratio.sort_values(ascending=False).iteritems():\n",
    "    station_name = df_station[df_station.index == index][\"Station 스테이션/성명\"].values[0]\n",
    "    print(f'정류장 번호: {index}, 정류장 이름: {station_name}, 반납 비율: {row}')\n",
    "    count += 1\n",
    "    if count > print_max:\n",
    "        break"
   ]
  },
  {
   "cell_type": "code",
   "execution_count": null,
   "id": "theoretical-tennis",
   "metadata": {},
   "outputs": [],
   "source": [
    "fig = plt.figure(figsize= (8, 6))\n",
    "ax = fig.add_subplot()\n",
    "ax.hist(df_return_ratio)\n",
    "ax.set_title('Return ratio histogram', fontsize='x-large')\n",
    "ax.set_xlabel('Return ratio', fontsize='large')\n",
    "ax.set_ylabel('Count', fontsize='large')"
   ]
  },
  {
   "cell_type": "markdown",
   "id": "visible-trinity",
   "metadata": {},
   "source": [
    "# 특징 데이터 정리"
   ]
  },
  {
   "cell_type": "code",
   "execution_count": null,
   "id": "alpine-remedy",
   "metadata": {},
   "outputs": [],
   "source": [
    "df_feature = pd.DataFrame()\n",
    "df_feature['대여스테이션'] = df['대여스테이션']\n",
    "df_feature['대여시'] = df['대여일시'].dt.hour\n",
    "df_feature['대여요일'] = df['대여일시'].dt.dayofweek\n",
    "df_feature['귀환'] = df['대여스테이션'] == df['반납스테이션']\n",
    "df_feature"
   ]
  },
  {
   "cell_type": "code",
   "execution_count": null,
   "id": "thirty-number",
   "metadata": {},
   "outputs": [],
   "source": [
    "features = ['대여스테이션', '대여시', '대여요일']\n",
    "X = df_feature[features]\n",
    "y = df_feature['귀환']"
   ]
  },
  {
   "cell_type": "code",
   "execution_count": null,
   "id": "pressing-drama",
   "metadata": {},
   "outputs": [],
   "source": [
    "X"
   ]
  },
  {
   "cell_type": "code",
   "execution_count": null,
   "id": "empty-convergence",
   "metadata": {},
   "outputs": [],
   "source": [
    "y"
   ]
  },
  {
   "cell_type": "code",
   "execution_count": null,
   "id": "incredible-telephone",
   "metadata": {},
   "outputs": [],
   "source": [
    "from sklearn.model_selection import train_test_split"
   ]
  },
  {
   "cell_type": "code",
   "execution_count": null,
   "id": "modular-surveillance",
   "metadata": {},
   "outputs": [],
   "source": [
    "test_size = 0.2\n",
    "X_train, X_test, y_train, y_test = train_test_split(X, y, test_size=test_size)\n",
    "print(f'학습에 사용할 피처 크기: {X_train.shape}')\n",
    "print(f'예측에 사용할 피처 크기: {X_test.shape}')"
   ]
  },
  {
   "cell_type": "code",
   "execution_count": null,
   "id": "hidden-hobby",
   "metadata": {},
   "outputs": [],
   "source": [
    "from sklearn.tree import DecisionTreeClassifier, export_graphviz"
   ]
  },
  {
   "cell_type": "code",
   "execution_count": null,
   "id": "incorporated-recognition",
   "metadata": {},
   "outputs": [],
   "source": [
    "random_state = None\n",
    "clf = DecisionTreeClassifier(random_state=random_state)"
   ]
  },
  {
   "cell_type": "code",
   "execution_count": null,
   "id": "impressive-connection",
   "metadata": {},
   "outputs": [],
   "source": [
    "clf.fit(X_train, y_train)"
   ]
  },
  {
   "cell_type": "code",
   "execution_count": null,
   "id": "stopped-samoa",
   "metadata": {},
   "outputs": [],
   "source": [
    "print(f'학습 평균 정확도: {clf.score(X_train, y_train)}') \n",
    "print(f'예측 평균 정확도: {clf.score(X_test, y_test)}') "
   ]
  },
  {
   "cell_type": "code",
   "execution_count": null,
   "id": "driving-customs",
   "metadata": {},
   "outputs": [],
   "source": [
    "from sklearn import tree"
   ]
  },
  {
   "cell_type": "code",
   "execution_count": null,
   "id": "public-trinidad",
   "metadata": {},
   "outputs": [],
   "source": [
    "fig = plt.figure(figsize= (8*1, 6*1))\n",
    "ax = fig.add_subplot()\n",
    "tree.plot_tree(clf, feature_names=['RentStation', 'RentHour', 'RentWeekday'],\n",
    "               max_depth=2,\n",
    "               ax=ax, fontsize='medium')"
   ]
  },
  {
   "cell_type": "code",
   "execution_count": null,
   "id": "anonymous-nothing",
   "metadata": {},
   "outputs": [],
   "source": [
    "random_state = None\n",
    "clf = DecisionTreeClassifier(max_depth=3, random_state=random_state)"
   ]
  },
  {
   "cell_type": "code",
   "execution_count": null,
   "id": "increased-ballot",
   "metadata": {},
   "outputs": [],
   "source": [
    "clf.fit(X_train, y_train)"
   ]
  },
  {
   "cell_type": "code",
   "execution_count": null,
   "id": "general-vertex",
   "metadata": {},
   "outputs": [],
   "source": [
    "print(f'학습 평균 정확도: {clf.score(X_train, y_train)}') \n",
    "print(f'예측 평균 정확도: {clf.score(X_test, y_test)}') "
   ]
  },
  {
   "cell_type": "code",
   "execution_count": null,
   "id": "recreational-character",
   "metadata": {},
   "outputs": [],
   "source": [
    "for name, importance in zip (features, clf.feature_importances_):\n",
    "    print(f'{name} = {importance}')"
   ]
  },
  {
   "cell_type": "code",
   "execution_count": null,
   "id": "local-beads",
   "metadata": {},
   "outputs": [],
   "source": [
    "fig = plt.figure(figsize= (8, 6))\n",
    "ax = fig.add_subplot()\n",
    "tree.plot_tree(clf, feature_names=['RentStation', 'RentHour', 'RentWeekday'],\n",
    "               ax=ax, fontsize='medium')"
   ]
  },
  {
   "cell_type": "markdown",
   "id": "pleased-colors",
   "metadata": {},
   "source": [
    "# 다른 특징 추가"
   ]
  },
  {
   "cell_type": "code",
   "execution_count": null,
   "id": "raised-bargain",
   "metadata": {},
   "outputs": [],
   "source": [
    "df_weather = pd.read_pickle('weather.pkl')\n",
    "df_weather['일시'] = pd.to_datetime(df_weather['일시'], format='%Y-%m-%d')\n",
    "df_weather"
   ]
  },
  {
   "cell_type": "code",
   "execution_count": null,
   "id": "premier-flesh",
   "metadata": {},
   "outputs": [],
   "source": [
    "df_rent['연월일'] = pd.to_datetime(df_rent['대여일시'].dt.strftime('%Y-%m-%d'), format='%Y-%m-%d')\n",
    "df_weather['연월일'] = pd.to_datetime(df_weather['일시'].dt.strftime('%Y-%m-%d'), format='%Y-%m-%d')\n",
    "df = df_rent.merge(df_weather, on=['연월일'])\n",
    "df.rename(columns={'평균기온(°C)': '평균기온', '일강수량(mm)': '일강수량'}, inplace=True)\n",
    "df_rent.drop(columns='연월일', inplace=True)\n",
    "df_weather.drop(columns='연월일', inplace=True)\n",
    "df"
   ]
  },
  {
   "cell_type": "code",
   "execution_count": null,
   "id": "disciplinary-parallel",
   "metadata": {},
   "outputs": [],
   "source": [
    "rent_index = pd.DatetimeIndex(df_rent['대여일시'])\n",
    "daily_df_rent = df['대여일시'].groupby(by=rent_index.strftime('%Y-%m-%d')).count()\n",
    "daily_df_rent"
   ]
  },
  {
   "cell_type": "code",
   "execution_count": null,
   "id": "matched-proceeding",
   "metadata": {},
   "outputs": [],
   "source": [
    "daily_temperature = df['평균기온'].groupby(by=rent_index.strftime('%Y-%m-%d')).mean()\n",
    "daily_temperature"
   ]
  },
  {
   "cell_type": "code",
   "execution_count": null,
   "id": "parliamentary-execution",
   "metadata": {},
   "outputs": [],
   "source": [
    "daily_rain = df['일강수량'].groupby(by=rent_index.strftime('%Y-%m-%d')).mean()\n",
    "daily_rain"
   ]
  },
  {
   "cell_type": "code",
   "execution_count": null,
   "id": "damaged-marathon",
   "metadata": {},
   "outputs": [],
   "source": [
    "daily_rain2 = daily_rain[daily_rain != 0.0]\n",
    "daily_rain2"
   ]
  },
  {
   "cell_type": "code",
   "execution_count": null,
   "id": "smaller-platinum",
   "metadata": {},
   "outputs": [],
   "source": [
    "fig = plt.figure(figsize= (8, 6))\n",
    "ax1 = fig.add_subplot()\n",
    "ax1.bar(daily_df_rent.index, daily_df_rent, color='black')\n",
    "ax2 = ax1.twinx()\n",
    "ax2.plot(daily_temperature.index, daily_temperature, color='orange')\n",
    "ax2.scatter(daily_rain2.index, daily_rain2, color='blue', marker='.')"
   ]
  },
  {
   "cell_type": "code",
   "execution_count": null,
   "id": "million-boost",
   "metadata": {},
   "outputs": [],
   "source": [
    "fig = plt.figure(figsize= (8, 6))\n",
    "ax1 = fig.add_subplot()\n",
    "ax1.bar(daily_df_rent.index, daily_df_rent, color='black')\n",
    "ax1.set_xlim(('2019-01-01', '2020-12-31'))\n",
    "ax2 = ax1.twinx()\n",
    "ax2.plot(daily_temperature.index, daily_temperature, color='orange')\n",
    "ax2.scatter(daily_rain2.index, daily_rain2, color='blue', marker='.')"
   ]
  },
  {
   "cell_type": "code",
   "execution_count": null,
   "id": "dynamic-alpha",
   "metadata": {},
   "outputs": [],
   "source": [
    "df_feature = pd.DataFrame()\n",
    "df_feature['대여스테이션'] = df['대여스테이션']\n",
    "df_feature['대여시'] = df['대여일시'].dt.hour\n",
    "df_feature['대여요일'] = df['대여일시'].dt.dayofweek\n",
    "df_feature['회원구분'] = df['회원구분']\n",
    "df_feature['평균기온'] = df['평균기온']\n",
    "df_feature['일강수량'] = df['일강수량']\n",
    "df_feature['귀환'] = df['대여스테이션'] == df['반납스테이션']\n",
    "df_feature"
   ]
  },
  {
   "cell_type": "code",
   "execution_count": null,
   "id": "white-coordinator",
   "metadata": {},
   "outputs": [],
   "source": [
    "features = ['대여스테이션', '대여시', '대여요일', '회원구분', '평균기온', '일강수량']\n",
    "X = df_feature[features]\n",
    "y = df_feature['귀환']"
   ]
  },
  {
   "cell_type": "code",
   "execution_count": null,
   "id": "behind-healing",
   "metadata": {},
   "outputs": [],
   "source": [
    "test_size = 0.2\n",
    "X_train, X_test, y_train, y_test = train_test_split(X, y, test_size=test_size)\n",
    "print(f'학습에 사용할 피처 크기: {X_train.shape}')\n",
    "print(f'예측에 사용할 피처 크기: {X_test.shape}')"
   ]
  },
  {
   "cell_type": "code",
   "execution_count": null,
   "id": "animated-albany",
   "metadata": {},
   "outputs": [],
   "source": [
    "random_state = None\n",
    "clf = DecisionTreeClassifier(random_state=random_state)"
   ]
  },
  {
   "cell_type": "code",
   "execution_count": null,
   "id": "early-quest",
   "metadata": {},
   "outputs": [],
   "source": [
    "clf.fit(X_train, y_train)"
   ]
  },
  {
   "cell_type": "code",
   "execution_count": null,
   "id": "sensitive-morgan",
   "metadata": {},
   "outputs": [],
   "source": [
    "print(f'학습 평균 정확도: {clf.score(X_train, y_train)}')\n",
    "print(f'예측 평균 정확도: {clf.score(X_test, y_test)}')"
   ]
  },
  {
   "cell_type": "code",
   "execution_count": null,
   "id": "authorized-thomas",
   "metadata": {},
   "outputs": [],
   "source": [
    "fig = plt.figure(figsize= (8, 6))\n",
    "ax = fig.add_subplot()\n",
    "tree.plot_tree(clf, feature_names=['RentStation', 'RentHour', 'RentWeekday', 'Temperature', 'Precipitation'],\n",
    "               max_depth=2,\n",
    "               ax=ax, fontsize='medium')"
   ]
  },
  {
   "cell_type": "code",
   "execution_count": null,
   "id": "overall-receipt",
   "metadata": {},
   "outputs": [],
   "source": [
    "for name, importance in zip (features, clf.feature_importances_):\n",
    "    print(f'{name} = {importance}')"
   ]
  },
  {
   "cell_type": "code",
   "execution_count": null,
   "id": "portuguese-brick",
   "metadata": {},
   "outputs": [],
   "source": []
  }
 ],
 "metadata": {
  "kernelspec": {
   "display_name": "TensorFlow",
   "language": "python",
   "name": "tensorflow"
  },
  "language_info": {
   "codemirror_mode": {
    "name": "ipython",
    "version": 3
   },
   "file_extension": ".py",
   "mimetype": "text/x-python",
   "name": "python",
   "nbconvert_exporter": "python",
   "pygments_lexer": "ipython3",
   "version": "3.8.6"
  }
 },
 "nbformat": 4,
 "nbformat_minor": 5
}
