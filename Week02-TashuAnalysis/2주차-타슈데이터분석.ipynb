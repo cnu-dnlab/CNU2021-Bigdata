{
 "cells": [
  {
   "cell_type": "markdown",
   "id": "imperial-delay",
   "metadata": {},
   "source": [
    "# 타슈 데이터 분석"
   ]
  },
  {
   "cell_type": "code",
   "execution_count": null,
   "id": "speaking-kernel",
   "metadata": {},
   "outputs": [],
   "source": [
    "import datetime\n",
    "\n",
    "import numpy as np\n",
    "import pandas as pd\n",
    "\n",
    "import matplotlib as mpl\n",
    "import matplotlib.pyplot as plt\n",
    "%matplotlib inline"
   ]
  },
  {
   "cell_type": "code",
   "execution_count": null,
   "id": "exceptional-airfare",
   "metadata": {},
   "outputs": [],
   "source": [
    "df_rent = pd.read_pickle('tashu_dataset-rental_history.pkl')\n",
    "df_rent['대여일시'] = pd.to_datetime(df_rent['대여일시'], format='%Y%m%d%H%M%S')\n",
    "df_rent['반납일시'] = pd.to_datetime(df_rent['반납일시'], format='%Y%m%d%H%M%S')\n",
    "df_rent"
   ]
  },
  {
   "cell_type": "code",
   "execution_count": null,
   "id": "aware-customer",
   "metadata": {},
   "outputs": [],
   "source": [
    "df_rent.dtypes"
   ]
  },
  {
   "cell_type": "code",
   "execution_count": null,
   "id": "grave-camping",
   "metadata": {},
   "outputs": [],
   "source": [
    "df_station = pd.read_pickle('tashu_dataset-station_information.pkl')\n",
    "df_station"
   ]
  },
  {
   "cell_type": "code",
   "execution_count": null,
   "id": "played-market",
   "metadata": {},
   "outputs": [],
   "source": [
    "df_station.dtypes"
   ]
  },
  {
   "cell_type": "markdown",
   "id": "dated-impact",
   "metadata": {},
   "source": [
    "## 대여일시 분석"
   ]
  },
  {
   "cell_type": "code",
   "execution_count": null,
   "id": "crude-laugh",
   "metadata": {},
   "outputs": [],
   "source": [
    "rent_index = pd.DatetimeIndex(df_rent['대여일시'])"
   ]
  },
  {
   "cell_type": "code",
   "execution_count": null,
   "id": "outdoor-brunei",
   "metadata": {},
   "outputs": [],
   "source": [
    "hourly_df_rent = df_rent['대여일시'].groupby(by=rent_index.hour)\n",
    "hourly_df_rent.count()"
   ]
  },
  {
   "cell_type": "code",
   "execution_count": null,
   "id": "perfect-montana",
   "metadata": {},
   "outputs": [],
   "source": [
    "fig = plt.figure(figsize= (8, 8))\n",
    "ax = fig.add_subplot()\n",
    "ax.plot(hourly_df_rent.count())"
   ]
  },
  {
   "cell_type": "code",
   "execution_count": null,
   "id": "latin-sponsorship",
   "metadata": {},
   "outputs": [],
   "source": [
    "print((f'가장 많이 대여하는 시간: '\n",
    "       f'{hourly_df_rent.count().index[hourly_df_rent.count() == max(hourly_df_rent.count())][0]}'))"
   ]
  },
  {
   "cell_type": "code",
   "execution_count": null,
   "id": "excess-simulation",
   "metadata": {},
   "outputs": [],
   "source": [
    "daily_df_rent = df_rent['대여일시'].groupby(by=rent_index.strftime('%Y-%m-%d'))\n",
    "daily_df_rent.count()"
   ]
  },
  {
   "cell_type": "code",
   "execution_count": null,
   "id": "bacterial-cincinnati",
   "metadata": {},
   "outputs": [],
   "source": [
    "fig = plt.figure(figsize= (8, 8))\n",
    "ax = fig.add_subplot()\n",
    "ax.plot(daily_df_rent.count())"
   ]
  },
  {
   "cell_type": "code",
   "execution_count": null,
   "id": "collected-federal",
   "metadata": {},
   "outputs": [],
   "source": [
    "print((f'가장 많이 대여한 날: '\n",
    "       f'{daily_df_rent.count().index[daily_df_rent.count() == max(daily_df_rent.count())][0]}'))"
   ]
  },
  {
   "cell_type": "code",
   "execution_count": null,
   "id": "informed-luxury",
   "metadata": {},
   "outputs": [],
   "source": [
    "monthly_df_rent = df_rent['대여일시'].groupby(by=rent_index.strftime('%Y-%m'))\n",
    "monthly_df_rent.count()"
   ]
  },
  {
   "cell_type": "code",
   "execution_count": null,
   "id": "acquired-meditation",
   "metadata": {},
   "outputs": [],
   "source": [
    "fig = plt.figure(figsize= (8, 8))\n",
    "ax = fig.add_subplot()\n",
    "ax.plot(monthly_df_rent.count())"
   ]
  },
  {
   "cell_type": "code",
   "execution_count": null,
   "id": "interstate-disability",
   "metadata": {},
   "outputs": [],
   "source": [
    "print((f'가장 많이 대여한 날: '\n",
    "       f'{monthly_df_rent.count().index[monthly_df_rent.count() == max(monthly_df_rent.count())][0]}'))"
   ]
  },
  {
   "cell_type": "code",
   "execution_count": null,
   "id": "heavy-recycling",
   "metadata": {},
   "outputs": [],
   "source": [
    "weekly_df_rent = df_rent['대여일시'].groupby(by=rent_index.strftime('%w'))\n",
    "weekly_df_rent.count()"
   ]
  },
  {
   "cell_type": "code",
   "execution_count": null,
   "id": "purple-xerox",
   "metadata": {},
   "outputs": [],
   "source": [
    "import matplotlib.pylab as plt\n",
    "%matplotlib inline\n",
    "\n",
    "\n",
    "labels = {0: 'Sunday', 1: 'Monday', 2: 'Tuesday', 3: 'Wednesday', 4: 'Thursday', 5: 'Friday', 6: 'Saturday'}\n",
    "colors = ['r', 'g', 'b', 'k', 'y', 'm', 'c']\n",
    "\n",
    "fig = plt.figure(figsize= (8, 8))\n",
    "ax = fig.add_subplot()\n",
    "ax.bar(labels.keys(), weekly_df_rent.count(), \n",
    "       color=colors, tick_label=list(labels.values()))"
   ]
  },
  {
   "cell_type": "code",
   "execution_count": null,
   "id": "opened-priority",
   "metadata": {},
   "outputs": [],
   "source": [
    "print((f'가장 많이 대여한 날: '\n",
    "       f'{weekly_df_rent.count().index[weekly_df_rent.count() == max(weekly_df_rent.count())][0]}'))"
   ]
  },
  {
   "cell_type": "markdown",
   "id": "applicable-flesh",
   "metadata": {},
   "source": [
    "## 정류장 분석"
   ]
  },
  {
   "cell_type": "code",
   "execution_count": null,
   "id": "favorite-immune",
   "metadata": {},
   "outputs": [],
   "source": [
    "station_df_rent = df_rent['대여스테이션'].groupby(by=df_rent['대여스테이션'])\n",
    "sorted_rent_station = station_df_rent.count().sort_values(ascending=False)\n",
    "sorted_rent_station"
   ]
  },
  {
   "cell_type": "code",
   "execution_count": null,
   "id": "personal-peter",
   "metadata": {},
   "outputs": [],
   "source": [
    "df_station[df_station.index == sorted_rent_station.index[0]]"
   ]
  },
  {
   "cell_type": "code",
   "execution_count": null,
   "id": "technological-department",
   "metadata": {},
   "outputs": [],
   "source": [
    "diff_rent = df_rent[df_rent['대여스테이션'] != df_rent['반납스테이션']]\n",
    "same_rent = df_rent[df_rent['대여스테이션'] == df_rent['반납스테이션']]"
   ]
  },
  {
   "cell_type": "code",
   "execution_count": null,
   "id": "current-cookie",
   "metadata": {},
   "outputs": [],
   "source": [
    "t = diff_rent['대여스테이션'].groupby(by=diff_rent['대여스테이션'])\n",
    "sorted_t = t.count().sort_values(ascending=False)\n",
    "sorted_t"
   ]
  },
  {
   "cell_type": "code",
   "execution_count": null,
   "id": "covered-helmet",
   "metadata": {},
   "outputs": [],
   "source": [
    "df_station[df_station.index == sorted_t.index[0]]"
   ]
  },
  {
   "cell_type": "code",
   "execution_count": null,
   "id": "aboriginal-trader",
   "metadata": {},
   "outputs": [],
   "source": [
    "t = same_rent['대여스테이션'].groupby(by=same_rent['대여스테이션'])\n",
    "sorted_t = t.count().sort_values(ascending=False)\n",
    "sorted_t"
   ]
  },
  {
   "cell_type": "markdown",
   "id": "residential-gospel",
   "metadata": {},
   "source": [
    "# 대여 - 반납 분석"
   ]
  },
  {
   "cell_type": "code",
   "execution_count": null,
   "id": "ranking-tactics",
   "metadata": {},
   "outputs": [],
   "source": [
    "df = df_rent['대여일시'].groupby(by=[df_rent['대여스테이션'], df_rent['반납스테이션']])\n",
    "df.count()"
   ]
  },
  {
   "cell_type": "code",
   "execution_count": null,
   "id": "filled-holiday",
   "metadata": {},
   "outputs": [],
   "source": [
    "df.count().index[df.count() == max(df.count())]"
   ]
  },
  {
   "cell_type": "markdown",
   "id": "heated-consciousness",
   "metadata": {},
   "source": [
    "# 이동 거리 분석"
   ]
  },
  {
   "cell_type": "code",
   "execution_count": null,
   "id": "sustained-mason",
   "metadata": {},
   "outputs": [],
   "source": [
    "df = df_rent.groupby(by=[df_rent['대여스테이션'], df_rent['반납스테이션']])\n",
    "df = df.mean()\n",
    "df"
   ]
  },
  {
   "cell_type": "code",
   "execution_count": null,
   "id": "chronic-athletics",
   "metadata": {},
   "outputs": [],
   "source": [
    "df.drop(columns='회원구분', inplace=True)\n",
    "df"
   ]
  },
  {
   "cell_type": "code",
   "execution_count": null,
   "id": "ethical-submission",
   "metadata": {},
   "outputs": [],
   "source": [
    "print((f'평균적으로 가장 멀리 이동한 대여-반납 경로: '\n",
    "       f'{df.index[df[\"이동거리\"] == max(df[\"이동거리\"])][0]}'))"
   ]
  },
  {
   "cell_type": "code",
   "execution_count": null,
   "id": "running-gates",
   "metadata": {},
   "outputs": [],
   "source": [
    "df_station[df_station.index.isin(df.index[df[\"이동거리\"] == max(df[\"이동거리\"])][0])]"
   ]
  }
 ],
 "metadata": {
  "kernelspec": {
   "display_name": "TensorFlow",
   "language": "python",
   "name": "tensorflow"
  },
  "language_info": {
   "codemirror_mode": {
    "name": "ipython",
    "version": 3
   },
   "file_extension": ".py",
   "mimetype": "text/x-python",
   "name": "python",
   "nbconvert_exporter": "python",
   "pygments_lexer": "ipython3",
   "version": "3.8.6"
  }
 },
 "nbformat": 4,
 "nbformat_minor": 5
}
