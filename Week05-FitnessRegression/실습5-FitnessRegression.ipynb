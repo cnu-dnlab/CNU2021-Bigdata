{
 "cells": [
  {
   "cell_type": "markdown",
   "id": "direct-swedish",
   "metadata": {},
   "source": [
    "# 피트니스 데이터 선형회귀\n",
    "\n",
    "## 빅데이터\n",
    "\n",
    "### 이영석, 문현수\n",
    "\n",
    "#### munhyunsu@cs-cnu.org"
   ]
  },
  {
   "cell_type": "markdown",
   "id": "liquid-england",
   "metadata": {},
   "source": [
    "#### 데이터 경로 찾기"
   ]
  },
  {
   "cell_type": "code",
   "execution_count": null,
   "id": "auburn-curtis",
   "metadata": {},
   "outputs": [],
   "source": [
    "import os"
   ]
  },
  {
   "cell_type": "code",
   "execution_count": null,
   "id": "prime-netscape",
   "metadata": {},
   "outputs": [],
   "source": [
    "file_list = []\n",
    "ext = '.json'\n",
    "\n",
    "queue = [os.path.abspath(os.path.expanduser('./sokulee')),\n",
    "        ]\n",
    "\n",
    "counter = 0\n",
    "while queue:\n",
    "    cursor = queue.pop()\n",
    "    counter = counter + 1\n",
    "    with os.scandir(cursor) as it:\n",
    "        for entry in it:\n",
    "            if entry.is_dir():\n",
    "                queue.append(entry.path)\n",
    "            elif entry.is_file() and entry.path.endswith(ext):\n",
    "                file_list.append(entry.path)\n",
    "\n",
    "print(f'{counter}개의 디렉터리에서 {len(file_list)}개 {ext} 파일 발견')\n",
    "for path in file_list[:3]:\n",
    "    print(path)"
   ]
  },
  {
   "cell_type": "markdown",
   "id": "saving-chambers",
   "metadata": {},
   "source": [
    "#### json raw data to DataFrame"
   ]
  },
  {
   "cell_type": "code",
   "execution_count": null,
   "id": "sudden-missile",
   "metadata": {},
   "outputs": [],
   "source": [
    "import datetime\n",
    "import json\n",
    "\n",
    "import numpy as np\n",
    "import pandas as pd"
   ]
  },
  {
   "cell_type": "code",
   "execution_count": null,
   "id": "signal-discount",
   "metadata": {},
   "outputs": [],
   "source": [
    "df_steps = pd.DataFrame()\n",
    "counter1 = 0\n",
    "counter2 = 0\n",
    "for path in file_list:\n",
    "    if 'steps' not in path:\n",
    "        continue\n",
    "    counter1 = counter1 + 1\n",
    "    steps = []\n",
    "    with open(path, 'r') as f:\n",
    "        data = json.load(f)\n",
    "        user = os.path.basename(path).split('_')[0]\n",
    "        if 'activities-steps' not in data:\n",
    "            print(f'처리 불가: {path}')\n",
    "            continue\n",
    "        day = data['activities-steps'][0]['dateTime']\n",
    "        for row in data['activities-steps-intraday']['dataset']:\n",
    "            datetime_str = f'{day}T{row[\"time\"]}+09:00'\n",
    "            datetime_iso = datetime.datetime.fromisoformat(datetime_str)\n",
    "            value = row['value']\n",
    "            steps.append({'user': user,\n",
    "                          'datetime': datetime_iso,\n",
    "                          'steps': value})\n",
    "    counter2 = counter2 + 1\n",
    "    df_steps = df_steps.append(steps, ignore_index=True)\n",
    "print(f'{counter1}개 파일 중 {counter2}개 입력됨')\n",
    "df_steps"
   ]
  },
  {
   "cell_type": "markdown",
   "id": "specialized-surname",
   "metadata": {},
   "source": [
    "#### 기초 정보: 기간, 참여 인원"
   ]
  },
  {
   "cell_type": "code",
   "execution_count": null,
   "id": "arabic-defensive",
   "metadata": {},
   "outputs": [],
   "source": [
    "print(f'기간: {min(df_steps[\"datetime\"])} ~ {max(df_steps[\"datetime\"])}')\n",
    "print(f'참여 인원: {len(df_steps[\"user\"].unique())}')"
   ]
  },
  {
   "cell_type": "markdown",
   "id": "given-poison",
   "metadata": {},
   "source": [
    "#### 사용자별 1일 발걸음 평균"
   ]
  },
  {
   "cell_type": "code",
   "execution_count": null,
   "id": "arbitrary-husband",
   "metadata": {},
   "outputs": [],
   "source": [
    "daily_steps = df_steps.groupby(['user', df_steps['datetime'].dt.strftime('%Y-%m-%d')]).sum()\n",
    "daily_steps"
   ]
  },
  {
   "cell_type": "code",
   "execution_count": null,
   "id": "ruled-algeria",
   "metadata": {},
   "outputs": [],
   "source": [
    "daily_steps.mean(level='user')"
   ]
  },
  {
   "cell_type": "code",
   "execution_count": null,
   "id": "bound-toner",
   "metadata": {},
   "outputs": [],
   "source": [
    "import matplotlib.pyplot as plt\n",
    "%matplotlib inline"
   ]
  },
  {
   "cell_type": "code",
   "execution_count": null,
   "id": "numeric-proof",
   "metadata": {},
   "outputs": [],
   "source": [
    "fig = plt.figure(figsize= (8, 6))\n",
    "ax = fig.add_subplot()\n",
    "ax.hist(daily_steps.mean(level='user'))\n",
    "ax.tick_params(labelsize='large')\n",
    "ax.set_xlabel('Daily steps', fontsize='large')\n",
    "ax.set_ylabel('Count', fontsize='large')\n",
    "_ = ax.set_title('Daily steps by user histogram', fontsize='x-large')"
   ]
  },
  {
   "cell_type": "markdown",
   "id": "arbitrary-gathering",
   "metadata": {},
   "source": [
    "#### 사용자, 일일 발걸음 분석"
   ]
  },
  {
   "cell_type": "code",
   "execution_count": null,
   "id": "broke-planning",
   "metadata": {},
   "outputs": [],
   "source": [
    "fig = plt.figure(figsize= (8, 6))\n",
    "ax = fig.add_subplot()\n",
    "cdf = ax.hist(daily_steps, bins=max(daily_steps.values)[0]+1, cumulative=True, histtype='step', density=True)\n",
    "ax.axvline(x=10000, color='red', linestyle='--')\n",
    "ax.set_xlim((-200, 20200))\n",
    "ax.set_ylim((-0.01, 1.01))\n",
    "ax.tick_params(labelsize='large')\n",
    "ax.set_xlabel('Daily steps', fontsize='large')\n",
    "ax.set_ylabel('CDF', fontsize='large')\n",
    "_ = ax.set_title('Daily steps CDF', fontsize='x-large')"
   ]
  },
  {
   "cell_type": "markdown",
   "id": "agricultural-prague",
   "metadata": {},
   "source": [
    "#### 만보 달성 사용자"
   ]
  },
  {
   "cell_type": "code",
   "execution_count": null,
   "id": "designed-compensation",
   "metadata": {},
   "outputs": [],
   "source": [
    "goal = daily_steps[daily_steps['steps'] >= 10000].count(level='datetime')\n",
    "goal.rename(columns={'steps': 'count'}, inplace=True)\n",
    "goal.head()"
   ]
  },
  {
   "cell_type": "code",
   "execution_count": null,
   "id": "million-caribbean",
   "metadata": {},
   "outputs": [],
   "source": [
    "fig = plt.figure(figsize= (8, 6))\n",
    "ax = fig.add_subplot()\n",
    "ax.plot(goal, color='green')\n",
    "ax.axhline(y=len(df_steps[\"user\"].unique())//2, color='red', linestyle='--')\n",
    "ax.tick_params(axis='x', labelrotation=90, labelsize='medium')\n",
    "ax.tick_params(axis='y', labelsize='large')\n",
    "ax.set_xlabel('Day', fontsize='large')\n",
    "ax.set_ylabel('Count', fontsize='large')\n",
    "_ = ax.set_title('Daily goal achievement count', fontsize='x-large')"
   ]
  },
  {
   "cell_type": "markdown",
   "id": "dental-lawrence",
   "metadata": {},
   "source": [
    "#### 선형 회귀"
   ]
  },
  {
   "cell_type": "code",
   "execution_count": null,
   "id": "international-chamber",
   "metadata": {},
   "outputs": [],
   "source": [
    "X = np.expand_dims(np.arange(0, len(goal)), axis=1)\n",
    "X"
   ]
  },
  {
   "cell_type": "code",
   "execution_count": null,
   "id": "received-arnold",
   "metadata": {},
   "outputs": [],
   "source": [
    "y = goal['count']\n",
    "y.head()"
   ]
  },
  {
   "cell_type": "code",
   "execution_count": null,
   "id": "loving-blogger",
   "metadata": {},
   "outputs": [],
   "source": [
    "from sklearn.linear_model import LinearRegression"
   ]
  },
  {
   "cell_type": "code",
   "execution_count": null,
   "id": "further-barcelona",
   "metadata": {},
   "outputs": [],
   "source": [
    "lr = LinearRegression()\n",
    "lr.fit(X, y)\n",
    "r_square = lr.score(X, y)"
   ]
  },
  {
   "cell_type": "code",
   "execution_count": null,
   "id": "previous-james",
   "metadata": {},
   "outputs": [],
   "source": [
    "print(f'결정 계수: {r_square}')\n",
    "print(f'기울기: {lr.coef_}')\n",
    "print(f'y절편: {lr.intercept_}')"
   ]
  },
  {
   "cell_type": "code",
   "execution_count": null,
   "id": "liable-civilization",
   "metadata": {},
   "outputs": [],
   "source": [
    "y_predict = lr.predict(X)"
   ]
  },
  {
   "cell_type": "code",
   "execution_count": null,
   "id": "prepared-bankruptcy",
   "metadata": {},
   "outputs": [],
   "source": [
    "fig = plt.figure(figsize= (8, 6))\n",
    "ax = fig.add_subplot()\n",
    "ax.plot(X, y, color='green', marker='o', linestyle='None', label='Actual')\n",
    "ax.plot(X, y_predict, color='blue', label='Predict')\n",
    "ax.tick_params(axis='x', labelsize='medium')\n",
    "ax.tick_params(axis='y', labelsize='large')\n",
    "ax.set_xlabel('Day', fontsize='large')\n",
    "ax.set_ylabel('Count', fontsize='large')\n",
    "ax.set_title('Daily goal achievement count', fontsize='x-large')\n",
    "_ = ax.legend()"
   ]
  },
  {
   "cell_type": "markdown",
   "id": "magnetic-agent",
   "metadata": {},
   "source": [
    "#### (오버 피팅 주의) 다항 회귀"
   ]
  },
  {
   "cell_type": "code",
   "execution_count": null,
   "id": "tutorial-welsh",
   "metadata": {},
   "outputs": [],
   "source": [
    "from sklearn.linear_model import Ridge\n",
    "from sklearn.preprocessing import PolynomialFeatures\n",
    "from sklearn.pipeline import make_pipeline"
   ]
  },
  {
   "cell_type": "code",
   "execution_count": null,
   "id": "gentle-processor",
   "metadata": {},
   "outputs": [],
   "source": [
    "degree = 3\n",
    "pr = make_pipeline(PolynomialFeatures(degree), LinearRegression())\n",
    "pr.fit(X, y)\n",
    "r_square = pr.score(X, y)"
   ]
  },
  {
   "cell_type": "code",
   "execution_count": null,
   "id": "chubby-berry",
   "metadata": {},
   "outputs": [],
   "source": [
    "print(f'결정 계수: {r_square}')\n",
    "print(f'차수: {pr[0].get_feature_names()}')\n",
    "print(f'기울기: {pr[1].coef_}')\n",
    "print(f'y절편: {pr[1].intercept_}')"
   ]
  },
  {
   "cell_type": "code",
   "execution_count": null,
   "id": "varying-civilization",
   "metadata": {},
   "outputs": [],
   "source": [
    "y_predict = pr.predict(X)"
   ]
  },
  {
   "cell_type": "code",
   "execution_count": null,
   "id": "prime-filling",
   "metadata": {},
   "outputs": [],
   "source": [
    "fig = plt.figure(figsize= (8, 6))\n",
    "ax = fig.add_subplot()\n",
    "ax.plot(X, y, color='green', marker='o', linestyle='None', label='Actual')\n",
    "ax.plot(X, y_predict, color='blue', label='Predict')\n",
    "ax.tick_params(axis='x', labelsize='medium')\n",
    "ax.tick_params(axis='y', labelsize='large')\n",
    "ax.set_xlabel('Day', fontsize='large')\n",
    "ax.set_ylabel('Count', fontsize='large')\n",
    "ax.set_title('Linear regression', fontsize='x-large')\n",
    "_ = ax.legend()"
   ]
  },
  {
   "cell_type": "code",
   "execution_count": null,
   "id": "amber-gabriel",
   "metadata": {},
   "outputs": [],
   "source": [
    "fig = plt.figure(figsize= (8, 6))\n",
    "degree_and_color = [(1, 'blue'),\n",
    "                    (2, 'purple'),\n",
    "                    (3, 'orange'),\n",
    "                    (4, 'pink'),\n",
    "                    (5, 'brown'),\n",
    "                    (6, 'cyan'),\n",
    "                    (7, 'olive'),]\n",
    "ax = fig.add_subplot()\n",
    "ax.plot(X, y, color='green', marker='o', linestyle='None', label='Actual')\n",
    "for degree, color in degree_and_color:\n",
    "    pr = make_pipeline(PolynomialFeatures(degree), LinearRegression())\n",
    "    pr.fit(X, y)\n",
    "    y_predict = pr.predict(X)\n",
    "    r_square = pr.score(X, y)\n",
    "    print(f'결정 계수: {r_square}')\n",
    "    print(f'차수: {pr[0].get_feature_names()}')\n",
    "    print(f'기울기: {pr[1].coef_}')\n",
    "    print(f'y절편: {pr[1].intercept_}')\n",
    "    ax.plot(X, y_predict, color=color, label=f'Degree {degree}')\n",
    "ax.tick_params(axis='x', labelsize='medium')\n",
    "ax.tick_params(axis='y', labelsize='large')\n",
    "ax.set_xlabel('Day', fontsize='large')\n",
    "ax.set_ylabel('Count', fontsize='large')\n",
    "ax.set_title('Polynomial regression', fontsize='x-large')\n",
    "_ = ax.legend()"
   ]
  },
  {
   "cell_type": "code",
   "execution_count": null,
   "id": "acute-tours",
   "metadata": {},
   "outputs": [],
   "source": []
  }
 ],
 "metadata": {
  "kernelspec": {
   "display_name": "Scikit-learn",
   "language": "python",
   "name": "scikit-learn"
  },
  "language_info": {
   "codemirror_mode": {
    "name": "ipython",
    "version": 3
   },
   "file_extension": ".py",
   "mimetype": "text/x-python",
   "name": "python",
   "nbconvert_exporter": "python",
   "pygments_lexer": "ipython3",
   "version": "3.9.2"
  }
 },
 "nbformat": 4,
 "nbformat_minor": 5
}
