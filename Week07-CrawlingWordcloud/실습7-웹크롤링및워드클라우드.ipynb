{
 "cells": [
  {
   "cell_type": "markdown",
   "id": "b05df04f",
   "metadata": {},
   "source": [
    "# 웹 크롤링 및 워드클라우드\n",
    "\n",
    "## 빅데이터\n",
    "\n",
    "### 이영석, 문현수\n",
    "\n",
    "#### munhyunsu@cs-cnu.org"
   ]
  },
  {
   "cell_type": "markdown",
   "id": "4cb36207",
   "metadata": {},
   "source": [
    "## KoNLPy 설치\n",
    "### 참고 웹 페이지:\n",
    "- [KoNLPy](https://konlpy.org/en/latest/)\n",
    "- [BeautifulSoup4](https://www.crummy.com/software/BeautifulSoup/bs4/doc/)"
   ]
  },
  {
   "cell_type": "markdown",
   "id": "06837eee",
   "metadata": {},
   "source": [
    "#### 자연어처리 KoNLPy 설치\n",
    "#### HTML 파서 BeautifulSoup4 설치"
   ]
  },
  {
   "cell_type": "code",
   "execution_count": null,
   "id": "a47edd39",
   "metadata": {},
   "outputs": [],
   "source": [
    "# install KoNLPy\n",
    "!~/Jupyter/scikit-learn/bin/python3 -m pip install --force-reinstall --upgrade konlpy"
   ]
  },
  {
   "cell_type": "code",
   "execution_count": null,
   "id": "114c8dc9",
   "metadata": {},
   "outputs": [],
   "source": [
    "# install wordcloud\n",
    "!~/Jupyter/scikit-learn/bin/python3 -m pip install --force-reinstall --upgrade wordcloud"
   ]
  },
  {
   "cell_type": "markdown",
   "id": "51959f49",
   "metadata": {},
   "source": [
    "#### 라이브러리 버전 확인"
   ]
  },
  {
   "cell_type": "code",
   "execution_count": null,
   "id": "c28abc88",
   "metadata": {},
   "outputs": [],
   "source": [
    "import sys\n",
    "import konlpy\n",
    "import bs4\n",
    "from bs4 import BeautifulSoup\n",
    "import wordcloud\n",
    "print(f'Python3 버전: {sys.version.split()[0]}')\n",
    "print(f'KoNLPy 버전: {konlpy.__version__}')\n",
    "print(f'BeautifulSoup 버전: {bs4.__version__}')\n",
    "print(f'wordcloud 버전: {wordcloud.__version__}')"
   ]
  },
  {
   "cell_type": "markdown",
   "id": "21852feb",
   "metadata": {},
   "source": [
    "#### 자연어 처리, 형태소 분석기 살펴보기"
   ]
  },
  {
   "cell_type": "code",
   "execution_count": null,
   "id": "4602c91e",
   "metadata": {},
   "outputs": [],
   "source": [
    "# 꼬꼬마 형태소 분석기: http://kkma.snu.ac.kr/\n",
    "from konlpy.tag import Kkma"
   ]
  },
  {
   "cell_type": "code",
   "execution_count": null,
   "id": "4121e487",
   "metadata": {},
   "outputs": [],
   "source": [
    "kkma = Kkma()\n",
    "kkma"
   ]
  },
  {
   "cell_type": "code",
   "execution_count": null,
   "id": "a1480bce",
   "metadata": {},
   "outputs": [],
   "source": [
    "message = '안녕하세요. 2021년 봄학기 산업대학원 빅데이터 실습입니다. 오늘 7주차에는 웹 크롤링 및 워드클라우드 실습을 진행합니다.'\n",
    "message"
   ]
  },
  {
   "cell_type": "code",
   "execution_count": null,
   "id": "90c122d2",
   "metadata": {},
   "outputs": [],
   "source": [
    "kkma.pos(message)"
   ]
  },
  {
   "cell_type": "code",
   "execution_count": null,
   "id": "0ac48493",
   "metadata": {},
   "outputs": [],
   "source": [
    "kkma.nouns(message)"
   ]
  },
  {
   "cell_type": "markdown",
   "id": "3130412f",
   "metadata": {},
   "source": [
    "#### 웹 페이지 데이터 수집"
   ]
  },
  {
   "cell_type": "code",
   "execution_count": null,
   "id": "b3ca12e3",
   "metadata": {},
   "outputs": [],
   "source": [
    "import urllib.request"
   ]
  },
  {
   "cell_type": "code",
   "execution_count": null,
   "id": "afe143f2",
   "metadata": {},
   "outputs": [],
   "source": [
    "url = 'https://news.naver.com/'"
   ]
  },
  {
   "cell_type": "code",
   "execution_count": null,
   "id": "78628dda",
   "metadata": {},
   "outputs": [],
   "source": [
    "with urllib.request.urlopen(url) as f:\n",
    "    print(f.read())"
   ]
  },
  {
   "cell_type": "code",
   "execution_count": null,
   "id": "8289807f",
   "metadata": {},
   "outputs": [],
   "source": [
    "from urllib.parse import urlparse"
   ]
  },
  {
   "cell_type": "code",
   "execution_count": null,
   "id": "dc42d9a0",
   "metadata": {},
   "outputs": [],
   "source": [
    "host = urlparse(url).netloc\n",
    "req = urllib.request.Request(url)\n",
    "req.add_header('Host', host) # it is mandatory in HTTP/1.1\n",
    "req.add_header('User-Agent', \n",
    "               '')\n",
    "req.headers"
   ]
  },
  {
   "cell_type": "code",
   "execution_count": null,
   "id": "c87a3743",
   "metadata": {
    "tags": []
   },
   "outputs": [],
   "source": [
    "with urllib.request.urlopen(req) as f:\n",
    "    data = f.read()\n",
    "data"
   ]
  },
  {
   "cell_type": "code",
   "execution_count": null,
   "id": "e77c3348",
   "metadata": {
    "tags": []
   },
   "outputs": [],
   "source": [
    "soup = BeautifulSoup(data, 'html.parser')\n",
    "print(soup.prettify())"
   ]
  },
  {
   "cell_type": "code",
   "execution_count": null,
   "id": "4e6abe9a",
   "metadata": {
    "tags": []
   },
   "outputs": [],
   "source": [
    "print(soup.get_text())"
   ]
  },
  {
   "cell_type": "code",
   "execution_count": null,
   "id": "da4749f4",
   "metadata": {
    "tags": []
   },
   "outputs": [],
   "source": [
    "kkma.nouns(soup.get_text())"
   ]
  },
  {
   "cell_type": "markdown",
   "id": "42489ca6",
   "metadata": {},
   "source": [
    "#### 워드 클라우드"
   ]
  },
  {
   "cell_type": "code",
   "execution_count": null,
   "id": "f9461524",
   "metadata": {},
   "outputs": [],
   "source": [
    "import collections"
   ]
  },
  {
   "cell_type": "code",
   "execution_count": null,
   "id": "07a4ff84",
   "metadata": {},
   "outputs": [],
   "source": [
    "counter = collections.Counter(kkma.nouns(soup.get_text()))\n",
    "counter.most_common(10)"
   ]
  },
  {
   "cell_type": "code",
   "execution_count": null,
   "id": "2f2ed6a4",
   "metadata": {},
   "outputs": [],
   "source": [
    "import matplotlib.font_manager as fm"
   ]
  },
  {
   "cell_type": "code",
   "execution_count": null,
   "id": "919449d5",
   "metadata": {
    "tags": []
   },
   "outputs": [],
   "source": [
    "print(f'총 {len(fm.fontManager.ttflist)}개의 폰트 검색됨')\n",
    "for index, font in enumerate(fm.fontManager.ttflist, start=1):\n",
    "    print(f'[{index}] {font.name} ==> {font.fname}')"
   ]
  },
  {
   "cell_type": "code",
   "execution_count": null,
   "id": "14f46f72",
   "metadata": {},
   "outputs": [],
   "source": [
    "font_path = ''"
   ]
  },
  {
   "cell_type": "code",
   "execution_count": null,
   "id": "59571162",
   "metadata": {},
   "outputs": [],
   "source": [
    "from wordcloud import WordCloud\n",
    "import matplotlib.pyplot as plt\n",
    "%matplotlib inline"
   ]
  },
  {
   "cell_type": "code",
   "execution_count": null,
   "id": "a5f30a6d",
   "metadata": {},
   "outputs": [],
   "source": [
    "# Colormap: https://matplotlib.org/stable/tutorials/colors/colormaps.html\n",
    "wc = WordCloud(font_path=font_path, \n",
    "               width=400, height=400,\n",
    "               background_color='white', colormap='rainbow')\n",
    "wc_img = wc.generate_from_frequencies(counter)"
   ]
  },
  {
   "cell_type": "code",
   "execution_count": null,
   "id": "afd61fd1",
   "metadata": {},
   "outputs": [],
   "source": [
    "fig = plt.figure(figsize= (8*1, 8*1))\n",
    "ax = fig.add_subplot()\n",
    "ax.imshow(wc_img)\n",
    "ax.axis('off')\n",
    "fig.show()"
   ]
  },
  {
   "cell_type": "code",
   "execution_count": null,
   "id": "0b07e4b9",
   "metadata": {},
   "outputs": [],
   "source": [
    "length = 2\n",
    "words = []\n",
    "for word in kkma.nouns(soup.get_text()):\n",
    "    if len(word) >= length:\n",
    "        words.append(word)\n",
    "print(f'{len(kkma.nouns(soup.get_text()))}개 단어 ==> {len(words)}개 단어')"
   ]
  },
  {
   "cell_type": "code",
   "execution_count": null,
   "id": "4707427a",
   "metadata": {},
   "outputs": [],
   "source": [
    "counter2 = collections.Counter(words)\n",
    "counter2.most_common(10)"
   ]
  },
  {
   "cell_type": "code",
   "execution_count": null,
   "id": "35afda46",
   "metadata": {},
   "outputs": [],
   "source": [
    "wc = WordCloud(font_path=font_path, \n",
    "               width=400, height=400,\n",
    "               background_color='white', colormap='hsv')\n",
    "wc_img = wc.generate_from_frequencies(counter2)"
   ]
  },
  {
   "cell_type": "code",
   "execution_count": null,
   "id": "bfde6539",
   "metadata": {},
   "outputs": [],
   "source": [
    "fig = plt.figure(figsize= (8*1, 8*1))\n",
    "ax = fig.add_subplot()\n",
    "ax.imshow(wc_img)\n",
    "ax.axis('off')\n",
    "fig.show()"
   ]
  },
  {
   "cell_type": "code",
   "execution_count": null,
   "id": "abcb4c59",
   "metadata": {},
   "outputs": [],
   "source": []
  }
 ],
 "metadata": {
  "kernelspec": {
   "display_name": "Scikit-learn",
   "language": "python",
   "name": "scikit-learn"
  },
  "language_info": {
   "codemirror_mode": {
    "name": "ipython",
    "version": 3
   },
   "file_extension": ".py",
   "mimetype": "text/x-python",
   "name": "python",
   "nbconvert_exporter": "python",
   "pygments_lexer": "ipython3",
   "version": "3.9.2"
  }
 },
 "nbformat": 4,
 "nbformat_minor": 5
}
