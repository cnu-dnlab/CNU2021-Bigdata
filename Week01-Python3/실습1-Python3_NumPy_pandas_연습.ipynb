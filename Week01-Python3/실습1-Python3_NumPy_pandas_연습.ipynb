{
 "cells": [
  {
   "cell_type": "markdown",
   "metadata": {},
   "source": [
    "# 실습1: Python3, NumPy, pandas 연습\n",
    "\n",
    "### 참고자료\n",
    "- [파이썬 3 표준 문서](https://docs.python.org/3/index.html)\n",
    "- [NumPy 표준 문서](https://numpy.org/devdocs/user/quickstart.html)\n",
    "- [pandas 표준 문서](https://pandas.pydata.org/pandas-docs/stable/user_guide/10min.html)"
   ]
  },
  {
   "cell_type": "markdown",
   "metadata": {},
   "source": [
    "### 1. 표준 입력, 표준 출력, 변수"
   ]
  },
  {
   "cell_type": "code",
   "execution_count": null,
   "metadata": {},
   "outputs": [],
   "source": [
    "### 파이썬 3 로 인사하기\n",
    "print('안녕하세요')"
   ]
  },
  {
   "cell_type": "code",
   "execution_count": null,
   "metadata": {},
   "outputs": [],
   "source": [
    "### 덧셈 뺄셈 곱셈 나눗셈\n",
    "4 - 2"
   ]
  },
  {
   "cell_type": "code",
   "execution_count": null,
   "metadata": {},
   "outputs": [],
   "source": [
    "### 문자열?\n",
    "'이렇게' + ' ' + '합쳐서' + ' ' + '출력'"
   ]
  },
  {
   "cell_type": "code",
   "execution_count": null,
   "metadata": {},
   "outputs": [],
   "source": [
    "### 덧셈기: 자연수\n",
    "x = int(input('첫번째 피연산자를 입력하세요: '))\n",
    "y = int(input('두번째 피연산자를 입력하세요: '))\n",
    "print(f'{x} + {y} = {x+y}')"
   ]
  },
  {
   "cell_type": "markdown",
   "metadata": {},
   "source": [
    "### 2. 흐름 제어: 반복문"
   ]
  },
  {
   "cell_type": "code",
   "execution_count": null,
   "metadata": {},
   "outputs": [],
   "source": [
    "### 플로우 컨트롤: for loop\n",
    "import time\n",
    "\n",
    "print('로켓 발사 카운트 다운!')\n",
    "for number in range(10, 0, -1):\n",
    "    print(f'발사 {number}초 전!')\n",
    "    time.sleep(1)\n",
    "print(f'로켓 발사!')"
   ]
  },
  {
   "cell_type": "code",
   "execution_count": null,
   "metadata": {},
   "outputs": [],
   "source": [
    "### 플로우 컨트롤: while loop\n",
    "print('비행기 이륙합니다!')\n",
    "height = 0\n",
    "while height < 10000:\n",
    "    print(f'고도 {height:05d}km')\n",
    "    height = height + 1000\n",
    "print(f'고도 {height:05d}km 도달!')"
   ]
  },
  {
   "cell_type": "markdown",
   "metadata": {},
   "source": [
    "### 3. 흐름 제어: 분기문"
   ]
  },
  {
   "cell_type": "code",
   "execution_count": null,
   "metadata": {},
   "outputs": [],
   "source": [
    "### 분기문: if\n",
    "x = int(input('입력: '))\n",
    "print(f'{x}를 2로 나누어봅니다.')\n",
    "while True:\n",
    "    x = x // 2\n",
    "    print(f'x = {x}')\n",
    "    if x < 10:\n",
    "        print('x가 10보다 작아졌으므로 종료합니다.')\n",
    "        break\n",
    "    else:\n",
    "        print('x가 아직 10보다 크므로 계속합니다.')"
   ]
  },
  {
   "cell_type": "markdown",
   "metadata": {},
   "source": [
    "### 4. 함수"
   ]
  },
  {
   "cell_type": "code",
   "execution_count": null,
   "metadata": {},
   "outputs": [],
   "source": [
    "### 함수: 제곱\n",
    "def power2(num):\n",
    "    return num**2\n",
    "\n",
    "x = int(input('입력: '))\n",
    "x2 = power2(x)\n",
    "print(f'{x}의 제곱은 {x2}입니다.')"
   ]
  },
  {
   "cell_type": "markdown",
   "metadata": {},
   "source": [
    "### 5. 필수 자료형: 리스트"
   ]
  },
  {
   "cell_type": "code",
   "execution_count": null,
   "metadata": {},
   "outputs": [],
   "source": [
    "### 리스트: 순서와 중복이 가능한 연속된 자료\n",
    "l = [4, 2, 3, 4, 9, 1]\n",
    "for i in l:\n",
    "    print(i)"
   ]
  },
  {
   "cell_type": "code",
   "execution_count": null,
   "metadata": {},
   "outputs": [],
   "source": [
    "### 구구단 리스트 만들기\n",
    "l = list() # []\n",
    "dan = int(input('몇 단? '))\n",
    "for i in range(0, 10):\n",
    "    l.append(dan *i)\n",
    "print(f'{dan}단: {l}')"
   ]
  },
  {
   "cell_type": "code",
   "execution_count": null,
   "metadata": {},
   "outputs": [],
   "source": [
    "### 리스트 참조\n",
    "i = 4\n",
    "j = -1\n",
    "print(f'길이 {len(l)}')\n",
    "print(f'{i}번째 원소와 {j}번째 원소의 합: {l[4] + l[-1]}')"
   ]
  },
  {
   "cell_type": "markdown",
   "metadata": {},
   "source": [
    "### 6. 필수 자료형: 사전"
   ]
  },
  {
   "cell_type": "code",
   "execution_count": null,
   "metadata": {},
   "outputs": [],
   "source": [
    "### 사전형 저장\n",
    "x = {'이름': '문현수',\n",
    "     '소속': '충남대학교',\n",
    "     '나이': 33}\n",
    "print(x)"
   ]
  },
  {
   "cell_type": "code",
   "execution_count": null,
   "metadata": {},
   "outputs": [],
   "source": [
    "### 사전형 참조\n",
    "print(f'이름: {x[\"이름\"]}, 나이: {x[\"나이\"]}')"
   ]
  },
  {
   "cell_type": "markdown",
   "metadata": {},
   "source": [
    "### 7. 시각화"
   ]
  },
  {
   "cell_type": "code",
   "execution_count": null,
   "metadata": {},
   "outputs": [],
   "source": [
    "import random\n",
    "numbers = list()\n",
    "for _ in range(0, 10):\n",
    "    numbers.append(random.randint(0, 10))\n",
    "print(f'무작위 생성: {numbers}')"
   ]
  },
  {
   "cell_type": "code",
   "execution_count": null,
   "metadata": {},
   "outputs": [],
   "source": [
    "import matplotlib.pylab as plt\n",
    "%matplotlib inline\n",
    "\n",
    "fig = plt.figure(figsize= (8, 8))\n",
    "ax = fig.add_subplot()\n",
    "ax.plot(numbers)"
   ]
  },
  {
   "cell_type": "markdown",
   "metadata": {},
   "source": [
    "# 8. NumPy tutorial"
   ]
  },
  {
   "cell_type": "code",
   "execution_count": null,
   "metadata": {},
   "outputs": [],
   "source": [
    "### NumPy 불러오기\n",
    "import numpy as np"
   ]
  },
  {
   "cell_type": "code",
   "execution_count": null,
   "metadata": {},
   "outputs": [],
   "source": [
    "### NumPy 데이터 생성\n",
    "a = np.arange(20).reshape(5, 4)\n",
    "print(f'{a}')"
   ]
  },
  {
   "cell_type": "code",
   "execution_count": null,
   "metadata": {},
   "outputs": [],
   "source": [
    "### NumPy 데이터 차원 및 크기\n",
    "print(f'a의 차원: {a.ndim}')\n",
    "print(f'a의 크기: {a.shape}')"
   ]
  },
  {
   "cell_type": "code",
   "execution_count": null,
   "metadata": {},
   "outputs": [],
   "source": [
    "### NumPy 데이터 자료형\n",
    "print(f'a의 자료형: {a.dtype}')\n",
    "print(f'a의 클래스: {type(a)}')"
   ]
  },
  {
   "cell_type": "code",
   "execution_count": null,
   "metadata": {},
   "outputs": [],
   "source": [
    "### NumPy 생성\n",
    "a = np.array([[5, 6, 7],\n",
    "              [3, 2, 1]])\n",
    "print(f'{a}')\n",
    "print(f'a의 크기 및 자료형: {a.shape}, {a.dtype}')\n",
    "b = np.array([[5.0, 6.0, 7.0],\n",
    "              [3.0, 2.0, 1.0]])\n",
    "print(f'{b}')\n",
    "print(f'b의 크기 및 자료형: {b.shape}, {b.dtype}')\n",
    "c = np.array([[5, 6, 7],\n",
    "              [3, 2, 1]], dtype=np.float32)\n",
    "print(f'{c}')\n",
    "print(f'c의 크기 및 자료형: {c.shape}, {c.dtype}')"
   ]
  },
  {
   "cell_type": "code",
   "execution_count": null,
   "metadata": {},
   "outputs": [],
   "source": [
    "### NumPy Reshape\n",
    "a = np.zeros((3, 10))\n",
    "print(f'{a}')\n",
    "print(f'a의 크기 및 자료형: {a.shape}, {a.dtype}')\n",
    "b = np.ones((5, 4), dtype=np.int8)\n",
    "print(f'{b}')\n",
    "print(f'b의 크기 및 자료형: {b.shape}, {b.dtype}')\n",
    "b2 = b.reshape(2, 10)\n",
    "print(f'{b2}')\n",
    "print(f'b2의 크기 및 자료형: {b2.shape}, {b2.dtype}')"
   ]
  },
  {
   "cell_type": "markdown",
   "metadata": {},
   "source": [
    "# 9. Pandas Tutorial"
   ]
  },
  {
   "cell_type": "code",
   "execution_count": null,
   "metadata": {},
   "outputs": [],
   "source": [
    "### pandas 불러오기\n",
    "import pandas as pd"
   ]
  },
  {
   "cell_type": "code",
   "execution_count": null,
   "metadata": {},
   "outputs": [],
   "source": [
    "### DataFrame 생성\n",
    "df = pd.DataFrame(np.random.rand(6, 4), \n",
    "                  index=['가', '나', '다', '라', '마', '바'], \n",
    "                  columns=['A', 'B', 'C', 'D'])\n",
    "df"
   ]
  },
  {
   "cell_type": "code",
   "execution_count": null,
   "metadata": {},
   "outputs": [],
   "source": [
    "### df 모양 살펴보기\n",
    "print(f'df의 인덱스: {df.index}')\n",
    "print(f'df의 column: {df.columns}')"
   ]
  },
  {
   "cell_type": "code",
   "execution_count": null,
   "metadata": {},
   "outputs": [],
   "source": [
    "### df 행참조\n",
    "#### DataFrame :: df.loc[row_indexer,column_indexer]\n",
    "print('행참조')\n",
    "df.loc['가', :]"
   ]
  },
  {
   "cell_type": "code",
   "execution_count": null,
   "metadata": {},
   "outputs": [],
   "source": [
    "### df 열참조\n",
    "#### DataFrame ==> Series :: df[]\n",
    "print('열참조')\n",
    "df['B']"
   ]
  },
  {
   "cell_type": "code",
   "execution_count": null,
   "metadata": {},
   "outputs": [],
   "source": [
    "### df 조건부 선택\n",
    "print('조건부 선택')\n",
    "df['B'] >= 0.5"
   ]
  },
  {
   "cell_type": "code",
   "execution_count": null,
   "metadata": {},
   "outputs": [],
   "source": [
    "### df 조건부 선택\n",
    "df[df['B'] >= 0.5]"
   ]
  },
  {
   "cell_type": "code",
   "execution_count": null,
   "metadata": {},
   "outputs": [],
   "source": [
    "df['C'] < 0.5"
   ]
  },
  {
   "cell_type": "code",
   "execution_count": null,
   "metadata": {},
   "outputs": [],
   "source": [
    "df[(df['B'] >= 0.5) & (df['C'] < 0.5)]"
   ]
  },
  {
   "cell_type": "code",
   "execution_count": null,
   "metadata": {},
   "outputs": [],
   "source": [
    "df.loc[(df['B'] >= 0.5) & (df['C'] < 0.5), ['A', 'D']] = 0\n",
    "df"
   ]
  }
 ],
 "metadata": {
  "kernelspec": {
   "display_name": "TensorFlow",
   "language": "python",
   "name": "tensorflow"
  },
  "language_info": {
   "codemirror_mode": {
    "name": "ipython",
    "version": 3
   },
   "file_extension": ".py",
   "mimetype": "text/x-python",
   "name": "python",
   "nbconvert_exporter": "python",
   "pygments_lexer": "ipython3",
   "version": "3.8.6"
  }
 },
 "nbformat": 4,
 "nbformat_minor": 4
}
