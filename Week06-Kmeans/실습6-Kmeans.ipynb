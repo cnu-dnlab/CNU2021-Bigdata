{
 "cells": [
  {
   "cell_type": "markdown",
   "id": "7031ff62",
   "metadata": {},
   "source": [
    "# 피트니스 데이터 KMeans-Clustering\n",
    "\n",
    "## 빅데이터\n",
    "\n",
    "### 이영석, 문현수\n",
    "\n",
    "#### munhyunsu@cs-cnu.org"
   ]
  },
  {
   "cell_type": "markdown",
   "id": "e12bf09e",
   "metadata": {},
   "source": [
    "#### 데이터 경로 찾기"
   ]
  },
  {
   "cell_type": "code",
   "execution_count": null,
   "id": "04518985",
   "metadata": {},
   "outputs": [],
   "source": [
    "import os"
   ]
  },
  {
   "cell_type": "code",
   "execution_count": null,
   "id": "186303f1",
   "metadata": {},
   "outputs": [],
   "source": [
    "file_list = []\n",
    "ext = '.json'\n",
    "\n",
    "queue = [os.path.abspath(os.path.expanduser('./sokulee')),\n",
    "        ]\n",
    "\n",
    "counter = 0\n",
    "while queue:\n",
    "    cursor = queue.pop()\n",
    "    counter = counter + 1\n",
    "    with os.scandir(cursor) as it:\n",
    "        for entry in it:\n",
    "            if entry.is_dir():\n",
    "                queue.append(entry.path)\n",
    "            elif entry.is_file() and entry.path.endswith(ext):\n",
    "                file_list.append(entry.path)\n",
    "\n",
    "print(f'{counter}개의 디렉터리에서 {len(file_list)}개 {ext} 파일 발견')\n",
    "for path in file_list[:10]:\n",
    "    print(path)"
   ]
  },
  {
   "cell_type": "markdown",
   "id": "4d882f3e",
   "metadata": {},
   "source": [
    "#### 데이터 살펴보기"
   ]
  },
  {
   "cell_type": "code",
   "execution_count": null,
   "id": "a2f3bcb4",
   "metadata": {},
   "outputs": [],
   "source": [
    "import datetime\n",
    "import json\n",
    "\n",
    "import numpy as np\n",
    "import pandas as pd"
   ]
  },
  {
   "cell_type": "code",
   "execution_count": null,
   "id": "2a073cc9",
   "metadata": {
    "tags": []
   },
   "outputs": [],
   "source": [
    "path = '/home/harny/Github/CNU2021-Bigdata/Week06-Kmeans/sokulee/A07/A07_20160405_sleep.json'\n",
    "with open(path, 'r') as f:\n",
    "    data = json.load(f)\n",
    "data"
   ]
  },
  {
   "cell_type": "code",
   "execution_count": null,
   "id": "fe7f9e0a",
   "metadata": {
    "tags": []
   },
   "outputs": [],
   "source": [
    "path = '/home/harny/Github/CNU2021-Bigdata/Week06-Kmeans/sokulee/A07/A07_20160513_steps.json'\n",
    "with open(path, 'r') as f:\n",
    "    data = json.load(f)\n",
    "data"
   ]
  },
  {
   "cell_type": "markdown",
   "id": "29c7664b",
   "metadata": {},
   "source": [
    "#### json raw data to DataFrame"
   ]
  },
  {
   "cell_type": "code",
   "execution_count": null,
   "id": "91012567",
   "metadata": {},
   "outputs": [],
   "source": [
    "counter1 = 0\n",
    "counter2 = 0\n",
    "steps = []\n",
    "for path in file_list:\n",
    "    if 'steps' not in path:\n",
    "        continue\n",
    "    counter1 = counter1 + 1\n",
    "    with open(path, 'r') as f:\n",
    "        data = json.load(f)\n",
    "        user = os.path.basename(path).split('_')[0]\n",
    "        if 'activities-steps' not in data:\n",
    "#             print(f'처리 불가: {path}')\n",
    "            continue\n",
    "        date = datetime.datetime.fromisoformat(data['activities-steps'][0]['dateTime'])\n",
    "        value = 0\n",
    "        for row in data['activities-steps-intraday']['dataset']:\n",
    "            value = value + row['value']\n",
    "        steps.append({'user': user,\n",
    "                      'date': date,\n",
    "                      'steps': value})\n",
    "    counter2 = counter2 + 1\n",
    "df_steps = pd.DataFrame(steps)\n",
    "print(f'{counter1}개 파일 중 {counter2}개 입력됨')\n",
    "df_steps"
   ]
  },
  {
   "cell_type": "code",
   "execution_count": null,
   "id": "9336f755",
   "metadata": {},
   "outputs": [],
   "source": [
    "counter1 = 0\n",
    "counter2 = 0\n",
    "sleeps = []\n",
    "for path in file_list:\n",
    "    if 'sleep' not in path:\n",
    "        continue\n",
    "    counter1 = counter1 + 1\n",
    "    with open(path, 'r') as f:\n",
    "        data = json.load(f)\n",
    "        user = os.path.basename(path).split('_')[0]\n",
    "        if len(data['sleep']) < 1:\n",
    "#             print(f'처리 불가: {path}')\n",
    "            continue\n",
    "        for i in range(len(data['sleep'])):\n",
    "            date = datetime.datetime.fromisoformat(data['sleep'][i]['dateOfSleep'])\n",
    "            sleep_start = datetime.datetime.fromisoformat(f'{data[\"sleep\"][i][\"startTime\"]}+09:00')\n",
    "            sleep_duration = datetime.timedelta(milliseconds=data['sleep'][i]['duration'])\n",
    "            wakeup = sleep_start + sleep_duration\n",
    "            sleeps.append({'user': user,\n",
    "                           'date': date,\n",
    "                           'wakeup': wakeup})\n",
    "#             break\n",
    "    counter2 = counter2 + 1\n",
    "df_sleeps = pd.DataFrame(sleeps)\n",
    "print(f'{counter1}개 파일 중 {counter2}개 입력됨')\n",
    "df_sleeps"
   ]
  },
  {
   "cell_type": "markdown",
   "id": "d7d827ea",
   "metadata": {},
   "source": [
    "#### 사용자, 날짜 기준 DataFrame 합치기"
   ]
  },
  {
   "cell_type": "code",
   "execution_count": null,
   "id": "b57690e7",
   "metadata": {},
   "outputs": [],
   "source": [
    "df = df_steps.merge(df_sleeps, on=['user', 'date'])\n",
    "df"
   ]
  },
  {
   "cell_type": "code",
   "execution_count": null,
   "id": "83ed9409",
   "metadata": {},
   "outputs": [],
   "source": [
    "# Nan 데이터가 있는 행을 제거\n",
    "df = df[df.notna().all(axis=1)]\n",
    "df.reset_index(drop=True)\n",
    "df"
   ]
  },
  {
   "cell_type": "markdown",
   "id": "801ac47f",
   "metadata": {},
   "source": [
    "#### 클러스터링 데이터 준비"
   ]
  },
  {
   "cell_type": "code",
   "execution_count": null,
   "id": "de40af5e",
   "metadata": {},
   "outputs": [],
   "source": [
    "df['hour'] = df['wakeup'].dt.hour\n",
    "df['sk'] = np.round(df['steps']/10**3)\n",
    "df = df.astype({'sk': 'int'})\n",
    "df"
   ]
  },
  {
   "cell_type": "code",
   "execution_count": null,
   "id": "0dc7fe62",
   "metadata": {},
   "outputs": [],
   "source": [
    "X = df.loc[:, ['hour', 'sk']]\n",
    "X"
   ]
  },
  {
   "cell_type": "markdown",
   "id": "61df0e0e",
   "metadata": {},
   "source": [
    "#### 데이터 살펴보기: 시각화"
   ]
  },
  {
   "cell_type": "code",
   "execution_count": null,
   "id": "278cd026",
   "metadata": {},
   "outputs": [],
   "source": [
    "import matplotlib.pyplot as plt\n",
    "%matplotlib inline"
   ]
  },
  {
   "cell_type": "code",
   "execution_count": null,
   "id": "b0bee1c5",
   "metadata": {},
   "outputs": [],
   "source": [
    "fig = plt.figure(figsize= (8*1, 8*1))\n",
    "ax = fig.add_subplot()\n",
    "ax.scatter(df['hour'], df['sk'])\n",
    "ax.tick_params(labelsize='large')\n",
    "ax.set_xlabel('Wakeup hour (H)', fontsize='large')\n",
    "ax.set_ylabel('Steps (K)', fontsize='large')\n",
    "_ = ax.set_title('Wakeup hour and steps scatter chart', fontsize='x-large')"
   ]
  },
  {
   "cell_type": "markdown",
   "id": "11e96798",
   "metadata": {},
   "source": [
    "#### 클러스터링"
   ]
  },
  {
   "cell_type": "code",
   "execution_count": null,
   "id": "7bb69d4d",
   "metadata": {},
   "outputs": [],
   "source": [
    "from sklearn.cluster import KMeans"
   ]
  },
  {
   "cell_type": "code",
   "execution_count": null,
   "id": "1f4718d3",
   "metadata": {},
   "outputs": [],
   "source": [
    "n_clusters = 4\n",
    "random_state = None\n",
    "kmeans = KMeans(n_clusters=n_clusters, random_state=random_state)\n",
    "kmeans"
   ]
  },
  {
   "cell_type": "code",
   "execution_count": null,
   "id": "d248b28c",
   "metadata": {},
   "outputs": [],
   "source": [
    "kmeans.fit(X)"
   ]
  },
  {
   "cell_type": "code",
   "execution_count": null,
   "id": "6d81127e",
   "metadata": {},
   "outputs": [],
   "source": [
    "kmeans.labels_"
   ]
  },
  {
   "cell_type": "code",
   "execution_count": null,
   "id": "061dcb13",
   "metadata": {},
   "outputs": [],
   "source": [
    "kmeans.cluster_centers_"
   ]
  },
  {
   "cell_type": "code",
   "execution_count": null,
   "id": "79871ea9",
   "metadata": {},
   "outputs": [],
   "source": [
    "fig = plt.figure(figsize=(8*1, 8*1))\n",
    "ax = fig.add_subplot()\n",
    "ax.scatter(df['hour'], df['sk'], c=kmeans.labels_)\n",
    "ax.tick_params(labelsize='large')\n",
    "ax.set_xlabel('Wakeup hour (H)', fontsize='large')\n",
    "ax.set_ylabel('Steps (K)', fontsize='large')\n",
    "_ = ax.set_title('Wakeup hour and steps scatter chart', fontsize='x-large')"
   ]
  },
  {
   "cell_type": "markdown",
   "id": "56186c15",
   "metadata": {},
   "source": [
    "\n",
    "#### 관성 (inertia) 을 통한 최적의 K 찾기"
   ]
  },
  {
   "cell_type": "code",
   "execution_count": null,
   "id": "eee26713",
   "metadata": {},
   "outputs": [],
   "source": [
    "rows = 2\n",
    "columns = 2\n",
    "n_clusters = 2\n",
    "random_state = None\n",
    "\n",
    "fig = plt.figure(figsize=(8*1, 8*1))\n",
    "fig.set_facecolor('white')\n",
    "counter = 1\n",
    "for r in range(rows):\n",
    "    for c in range(columns):\n",
    "        kmeans = KMeans(n_clusters=n_clusters, random_state=random_state)\n",
    "        kmeans.fit(X)\n",
    "        ax = fig.add_subplot(rows, columns, counter)\n",
    "        ax.scatter(df['hour'], df['sk'], c=kmeans.labels_)\n",
    "        ax.tick_params(axis='x', which='both', bottom=False, labelbottom=False)\n",
    "        ax.tick_params(axis='y', which='both', left=False, labelleft=False)\n",
    "        ax.set_title(f'{n_clusters=}', fontsize='x-large')\n",
    "        n_clusters = n_clusters + 1\n",
    "        counter = counter + 1"
   ]
  },
  {
   "cell_type": "code",
   "execution_count": null,
   "id": "2ec4f503",
   "metadata": {},
   "outputs": [],
   "source": [
    "rows = 2\n",
    "columns = 2\n",
    "n_clusters = 2\n",
    "random_state = None\n",
    "\n",
    "fig = plt.figure(figsize=(8*1, 6*1))\n",
    "fig.set_facecolor('white')\n",
    "counter = 1\n",
    "x_data = []\n",
    "y_data = []\n",
    "for r in range(rows):\n",
    "    for c in range(columns):\n",
    "        kmeans = KMeans(n_clusters=n_clusters, random_state=random_state)\n",
    "        kmeans.fit(X)\n",
    "        x_data.append(n_clusters)\n",
    "        y_data.append(kmeans.inertia_)\n",
    "        n_clusters = n_clusters + 1\n",
    "        counter = counter + 1\n",
    "ax = fig.add_subplot()\n",
    "ax.plot(x_data, y_data)\n",
    "ax.tick_params(labelsize='large')\n",
    "ax.set_xlabel('n_clusters', fontsize='large')\n",
    "ax.set_ylabel('inertia', fontsize='large')\n",
    "_ = ax.set_title('K-means inertia by n_clusters', fontsize='x-large')"
   ]
  },
  {
   "cell_type": "code",
   "execution_count": null,
   "id": "516f2523",
   "metadata": {},
   "outputs": [],
   "source": []
  }
 ],
 "metadata": {
  "kernelspec": {
   "display_name": "Scikit-learn",
   "language": "python",
   "name": "scikit-learn"
  },
  "language_info": {
   "codemirror_mode": {
    "name": "ipython",
    "version": 3
   },
   "file_extension": ".py",
   "mimetype": "text/x-python",
   "name": "python",
   "nbconvert_exporter": "python",
   "pygments_lexer": "ipython3",
   "version": "3.9.2"
  }
 },
 "nbformat": 4,
 "nbformat_minor": 5
}
